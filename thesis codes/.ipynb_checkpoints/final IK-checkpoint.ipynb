{
 "cells": [
  {
   "cell_type": "code",
   "execution_count": 1,
   "metadata": {},
   "outputs": [],
   "source": [
    "import numpy as np\n",
    "import time\n",
    "import matplotlib.pyplot as plt\n",
    "from numpy import matrix\n",
    "from numpy.linalg import inv\n"
   ]
  },
  {
   "cell_type": "code",
   "execution_count": 2,
   "metadata": {},
   "outputs": [],
   "source": [
    "# Initialization\n",
    "# Angles in degrees\n",
    "t0 = 45\n",
    "t1 = 45\n",
    "t2 = 90\n",
    "\n",
    "# Joint lengths\n",
    "a0 = 2\n",
    "a1 = 7\n",
    "a2 = 1\n",
    "\n",
    "inside = True"
   ]
  },
  {
   "cell_type": "code",
   "execution_count": 3,
   "metadata": {},
   "outputs": [],
   "source": [
    "# Theta Values in radians\n",
    "t0 = t0/180*np.pi\n",
    "t1 = t1/180*np.pi\n",
    "t2 = t2/180*np.pi"
   ]
  },
  {
   "cell_type": "code",
   "execution_count": 4,
   "metadata": {},
   "outputs": [],
   "source": [
    "# Delta values\n",
    "dT0 = 0.001\n",
    "\n",
    "t0_1 = t0 + dT0\n",
    "t1_1 = t1 + dT0\n",
    "t2_1 = t2 + dT0"
   ]
  },
  {
   "cell_type": "code",
   "execution_count": 5,
   "metadata": {},
   "outputs": [],
   "source": [
    "# Desired Values\n",
    "e_des = np.matrix([[1],[8]])\n"
   ]
  },
  {
   "cell_type": "code",
   "execution_count": 6,
   "metadata": {},
   "outputs": [],
   "source": [
    "class Forward_kinematics():\n",
    "    \n",
    "    def init(self):\n",
    "        self.joint1         = t0\n",
    "        self.joint2         = t1\n",
    "        self.joint3         = t2\n",
    "        self.param_table    = [[],[],[],[]]\n",
    "        self.T0_1           = [[],[],[],[]]\n",
    "        self.T1_2           = [[],[],[],[]]\n",
    "        self.T2_3           = [[],[],[],[]]\n",
    "        self.T0_2           = [[],[],[],[]]\n",
    "        self.T0_3           = [[],[],[],[]]\n",
    "\n",
    "    def param_table(self, joint1, joint2, joint3):\n",
    "        # Parameter table with columns \" theta, alpha, r or a, d \n",
    "        self.param_tab  =   [[joint1 ,      0         ,  a0   ,  0  ],\n",
    "                             [joint2 ,      0         ,  a1   ,  0  ],\n",
    "                             [joint3 ,      0         ,  a2   ,  0  ]]\n",
    "    \n",
    "    def first_joint(self):\n",
    "        i=0\n",
    "        self.T0_1 = [[np.cos(self.param_tab[i][0]) , -np.cos(self.param_tab[i][1])*np.sin(self.param_tab[i][0]), np.sin(self.param_tab[i][1])*np.sin(self.param_tab[i][0])  , self.param_tab[i][2]*np.cos(self.param_tab[i][0])],\n",
    "                     [np.sin(self.param_tab[i][0]) , np.cos(self.param_tab[i][1])*np.cos(self.param_tab[i][0]) , -np.sin(self.param_tab[i][1])*np.cos(self.param_tab[i][0]) , self.param_tab[i][2]*np.sin(self.param_tab[i][0])],\n",
    "                     [           0                 ,            np.sin(self.param_tab[i][1])                   ,       np.cos(self.param_tab[i][1])                         ,     self.param_tab[i][3]                         ],\n",
    "                     [0  ,  0  ,  0  ,  1 ]]\n",
    "        return self.T0_1\n",
    "\n",
    "    def second_joint(self):\n",
    "        T0_1 = self.first_joint()\n",
    "        i=1\n",
    "        self.T1_2 = [[np.cos(self.param_tab[i][0]) , -np.cos(self.param_tab[i][1])*np.sin(self.param_tab[i][0]), np.sin(self.param_tab[i][1])*np.sin(self.param_tab[i][0])  , self.param_tab[i][2]*np.cos(self.param_tab[i][0])],\n",
    "                     [np.sin(self.param_tab[i][0]) , np.cos(self.param_tab[i][1])*np.cos(self.param_tab[i][0]) , -np.sin(self.param_tab[i][1])*np.cos(self.param_tab[i][0]) , self.param_tab[i][2]*np.sin(self.param_tab[i][0])],\n",
    "                     [           0                 ,            np.sin(self.param_tab[i][1])                   ,       np.cos(self.param_tab[i][1])                         ,     self.param_tab[i][3]                    ],\n",
    "                     [0  ,  0  ,  0  ,  1 ]]\n",
    "        self.T0_2 = np.dot(self.T0_1,self.T1_2)\n",
    "        return self.T0_2\n",
    "        \n",
    "    def end_effector(self,joint1,joint2,joint3):\n",
    "        self.param_table(joint1,joint2,joint3)\n",
    "        T0_1 = self.first_joint()\n",
    "        T1_2 = self.second_joint()\n",
    "        i=2\n",
    "        self.T2_3 = [[np.cos(self.param_tab[i][0]) , -np.cos(self.param_tab[i][1])*np.sin(self.param_tab[i][0]), np.sin(self.param_tab[i][1])*np.sin(self.param_tab[i][0])  , self.param_tab[i][2]*np.cos(self.param_tab[i][0])],\n",
    "                     [np.sin(self.param_tab[i][0]) , np.cos(self.param_tab[i][1])*np.cos(self.param_tab[i][0]) , -np.sin(self.param_tab[i][1])*np.cos(self.param_tab[i][0]) , self.param_tab[i][2]*np.sin(self.param_tab[i][0])],\n",
    "                     [           0                 ,            np.sin(self.param_tab[i][1])                   ,       np.cos(self.param_tab[i][1])                         ,     self.param_tab[i][3]                    ],\n",
    "                     [0  ,  0  ,  0  ,  1 ]]\n",
    "        self.T0_2 = np.dot(self.T0_1,self.T1_2)\n",
    "        self.T0_3 = np.dot(self.T0_2,self.T2_3)\n",
    "        return self.T0_3\n",
    "        \n",
    "    def transformation_matrix(self):\n",
    "        '''\n",
    "        This method calculates the Transformation Matrix at each joint\n",
    "        and returns end effector Transformation Matrix\n",
    "        '''\n",
    "\n",
    "        # Transformation matrix\n",
    "        i=0\n",
    "        self.T0_1 = [[np.cos(self.param_tab[i][0]) , -np.cos(self.param_tab[i][1])*np.sin(self.param_tab[i][0]), np.sin(self.param_tab[i][1])*np.sin(self.param_tab[i][0])  , self.param_tab[i][2]*np.cos(self.param_tab[i][0])],\n",
    "                     [np.sin(self.param_tab[i][0]) , np.cos(self.param_tab[i][1])*np.cos(self.param_tab[i][0]) , -np.sin(self.param_tab[i][1])*np.cos(self.param_tab[i][0]) , self.param_tab[i][2]*np.sin(self.param_tab[i][0])],\n",
    "                     [           0                 ,            np.sin(self.param_tab[i][1])                   ,       np.cos(self.param_tab[i][1])                         ,     self.param_tab[i][3]                    ],\n",
    "                     [0  ,  0  ,  0  ,  1 ]]\n",
    "        i=1\n",
    "        self.T1_2 = [[np.cos(self.param_tab[i][0]) , -np.cos(self.param_tab[i][1])*np.sin(self.param_tab[i][0]), np.sin(self.param_tab[i][1])*np.sin(self.param_tab[i][0])  , self.param_tab[i][2]*np.cos(self.param_tab[i][0])],\n",
    "                     [np.sin(self.param_tab[i][0]) , np.cos(self.param_tab[i][1])*np.cos(self.param_tab[i][0]) , -np.sin(self.param_tab[i][1])*np.cos(self.param_tab[i][0]) , self.param_tab[i][2]*np.sin(self.param_tab[i][0])],\n",
    "                     [           0                 ,            np.sin(self.param_tab[i][1])                   ,       np.cos(self.param_tab[i][1])                         ,     self.param_tab[i][3]                    ],\n",
    "                     [0  ,  0  ,  0  ,  1 ]]\n",
    "\n",
    "        i=2\n",
    "        self.T2_3 = [[np.cos(self.param_tab[i][0]) , -np.cos(self.param_tab[i][1])*np.sin(self.param_tab[i][0]), np.sin(self.param_tab[i][1])*np.sin(self.param_tab[i][0])  , self.param_tab[i][2]*np.cos(self.param_tab[i][0])],\n",
    "                     [np.sin(self.param_tab[i][0]) , np.cos(self.param_tab[i][1])*np.cos(self.param_tab[i][0]) , -np.sin(self.param_tab[i][1])*np.cos(self.param_tab[i][0]) , self.param_tab[i][2]*np.sin(self.param_tab[i][0])],\n",
    "                     [           0                 ,            np.sin(self.param_tab[i][1])                   ,       np.cos(self.param_tab[i][1])                         ,     self.param_tab[i][3]                    ],\n",
    "                     [0  ,  0  ,  0  ,  1 ]]\n",
    "\n",
    "        # Finding T0_3 matrix\n",
    "        self.T0_2 = np.dot(self.T0_1,self.T1_2)\n",
    "        self.T0_3 = np.dot(self.T0_2,self.T2_3) \n",
    "\n",
    "        return self.T0_3\n",
    "\n",
    "    def position(self, tran_mat):\n",
    "        '''\n",
    "        This method prints the position of the end effector\n",
    "        '''\n",
    "        # Traslation vectors x,y,z are\n",
    "        p_x = tran_mat[0][3]\n",
    "        p_y = tran_mat[1][3]\n",
    "        p_z = tran_mat[2][3]\n",
    "\n",
    "        print(\" X : \",p_x)\n",
    "        print(\" Y : \",p_y)\n",
    "        print(\" Z : \",p_z)\n",
    "\n",
    "    def orientation(self, tran_mat):\n",
    "        '''\n",
    "        This method prints the orientation of the end effector\n",
    "        '''\n",
    "        #  Yaw-Pitch-Roll orientation\n",
    "        #  phi - theta - psi\n",
    "        theta = np.arcsin(tran_mat[2][0])\n",
    "        psi = np.arccos((tran_mat[2][2])/np.cos(theta))\n",
    "        phi = np.arccos((tran_mat[0][0])/np.cos(theta))\n",
    "\n",
    "        print(\" theta : \",theta*180/np.pi)\n",
    "        print(\" psi   : \",psi*180/np.pi)\n",
    "        print(\" phi   : \",phi*180/np.pi)\n",
    "\n"
   ]
  },
  {
   "cell_type": "code",
   "execution_count": 7,
   "metadata": {},
   "outputs": [],
   "source": [
    "def sign(a,b):\n",
    "    return np.sign(np.subtract(a,b))\n"
   ]
  },
  {
   "cell_type": "code",
   "execution_count": 8,
   "metadata": {},
   "outputs": [
    {
     "ename": "KeyboardInterrupt",
     "evalue": "",
     "output_type": "error",
     "traceback": [
      "\u001b[1;31m---------------------------------------------------------------------------\u001b[0m",
      "\u001b[1;31mKeyboardInterrupt\u001b[0m                         Traceback (most recent call last)",
      "\u001b[1;32m<ipython-input-8-734034e14fe9>\u001b[0m in \u001b[0;36m<module>\u001b[1;34m\u001b[0m\n\u001b[0;32m     17\u001b[0m     \u001b[0mJ\u001b[0m \u001b[1;33m=\u001b[0m \u001b[0mnp\u001b[0m\u001b[1;33m.\u001b[0m\u001b[0mc_\u001b[0m\u001b[1;33m[\u001b[0m\u001b[0me_del_t0\u001b[0m\u001b[1;33m,\u001b[0m\u001b[0me_del_t1\u001b[0m\u001b[1;33m,\u001b[0m\u001b[0me_del_t2\u001b[0m\u001b[1;33m]\u001b[0m\u001b[1;33m\u001b[0m\u001b[1;33m\u001b[0m\u001b[0m\n\u001b[0;32m     18\u001b[0m \u001b[1;33m\u001b[0m\u001b[0m\n\u001b[1;32m---> 19\u001b[1;33m     \u001b[0mJ_inv\u001b[0m \u001b[1;33m=\u001b[0m \u001b[0mnp\u001b[0m\u001b[1;33m.\u001b[0m\u001b[0mdot\u001b[0m\u001b[1;33m(\u001b[0m\u001b[1;33m(\u001b[0m\u001b[0mnp\u001b[0m\u001b[1;33m.\u001b[0m\u001b[0mlinalg\u001b[0m\u001b[1;33m.\u001b[0m\u001b[0minv\u001b[0m\u001b[1;33m(\u001b[0m\u001b[0mnp\u001b[0m\u001b[1;33m.\u001b[0m\u001b[0mtranspose\u001b[0m\u001b[1;33m(\u001b[0m\u001b[0mJ\u001b[0m\u001b[1;33m)\u001b[0m\u001b[1;33m*\u001b[0m\u001b[0mJ\u001b[0m\u001b[1;33m)\u001b[0m\u001b[1;33m)\u001b[0m\u001b[1;33m,\u001b[0m\u001b[0mnp\u001b[0m\u001b[1;33m.\u001b[0m\u001b[0mtranspose\u001b[0m\u001b[1;33m(\u001b[0m\u001b[0mJ\u001b[0m\u001b[1;33m)\u001b[0m\u001b[1;33m)\u001b[0m\u001b[1;33m\u001b[0m\u001b[1;33m\u001b[0m\u001b[0m\n\u001b[0m\u001b[0;32m     20\u001b[0m \u001b[1;33m\u001b[0m\u001b[0m\n\u001b[0;32m     21\u001b[0m     \u001b[1;31m# Finding new End effector position\u001b[0m\u001b[1;33m\u001b[0m\u001b[1;33m\u001b[0m\u001b[1;33m\u001b[0m\u001b[0m\n",
      "\u001b[1;32m~\\Anaconda3\\lib\\site-packages\\numpy\\matrixlib\\defmatrix.py\u001b[0m in \u001b[0;36m__mul__\u001b[1;34m(self, other)\u001b[0m\n\u001b[0;32m    218\u001b[0m         \u001b[1;32mif\u001b[0m \u001b[0misinstance\u001b[0m\u001b[1;33m(\u001b[0m\u001b[0mother\u001b[0m\u001b[1;33m,\u001b[0m \u001b[1;33m(\u001b[0m\u001b[0mN\u001b[0m\u001b[1;33m.\u001b[0m\u001b[0mndarray\u001b[0m\u001b[1;33m,\u001b[0m \u001b[0mlist\u001b[0m\u001b[1;33m,\u001b[0m \u001b[0mtuple\u001b[0m\u001b[1;33m)\u001b[0m\u001b[1;33m)\u001b[0m \u001b[1;33m:\u001b[0m\u001b[1;33m\u001b[0m\u001b[1;33m\u001b[0m\u001b[0m\n\u001b[0;32m    219\u001b[0m             \u001b[1;31m# This promotes 1-D vectors to row vectors\u001b[0m\u001b[1;33m\u001b[0m\u001b[1;33m\u001b[0m\u001b[1;33m\u001b[0m\u001b[0m\n\u001b[1;32m--> 220\u001b[1;33m             \u001b[1;32mreturn\u001b[0m \u001b[0mN\u001b[0m\u001b[1;33m.\u001b[0m\u001b[0mdot\u001b[0m\u001b[1;33m(\u001b[0m\u001b[0mself\u001b[0m\u001b[1;33m,\u001b[0m \u001b[0masmatrix\u001b[0m\u001b[1;33m(\u001b[0m\u001b[0mother\u001b[0m\u001b[1;33m)\u001b[0m\u001b[1;33m)\u001b[0m\u001b[1;33m\u001b[0m\u001b[1;33m\u001b[0m\u001b[0m\n\u001b[0m\u001b[0;32m    221\u001b[0m         \u001b[1;32mif\u001b[0m \u001b[0misscalar\u001b[0m\u001b[1;33m(\u001b[0m\u001b[0mother\u001b[0m\u001b[1;33m)\u001b[0m \u001b[1;32mor\u001b[0m \u001b[1;32mnot\u001b[0m \u001b[0mhasattr\u001b[0m\u001b[1;33m(\u001b[0m\u001b[0mother\u001b[0m\u001b[1;33m,\u001b[0m \u001b[1;34m'__rmul__'\u001b[0m\u001b[1;33m)\u001b[0m \u001b[1;33m:\u001b[0m\u001b[1;33m\u001b[0m\u001b[1;33m\u001b[0m\u001b[0m\n\u001b[0;32m    222\u001b[0m             \u001b[1;32mreturn\u001b[0m \u001b[0mN\u001b[0m\u001b[1;33m.\u001b[0m\u001b[0mdot\u001b[0m\u001b[1;33m(\u001b[0m\u001b[0mself\u001b[0m\u001b[1;33m,\u001b[0m \u001b[0mother\u001b[0m\u001b[1;33m)\u001b[0m\u001b[1;33m\u001b[0m\u001b[1;33m\u001b[0m\u001b[0m\n",
      "\u001b[1;31mKeyboardInterrupt\u001b[0m: "
     ]
    },
    {
     "data": {
      "image/png": "[encoded data removed]",
      "text/plain": [
       "<Figure size 432x288 with 1 Axes>"
      ]
     },
     "metadata": {
      "needs_background": "light"
     },
     "output_type": "display_data"
    }
   ],
   "source": [
    "fk = Forward_kinematics()\n",
    "while(inside):\n",
    "    e = np.matrix(fk.end_effector(t0,t1,t2))\n",
    "    e_t0 = np.matrix(fk.end_effector(t0_1,t1,t2))\n",
    "    e_t1 = np.matrix(fk.end_effector(t0,t1_1,t2))\n",
    "    e_t2 = np.matrix(fk.end_effector(t0,t1,t2_1))\n",
    "    \n",
    "    e = e[0:2,3]\n",
    "    e_t0 = e_t0[0:2,3]\n",
    "    e_t1 = e_t1[0:2,3]\n",
    "    e_t2 = e_t2[0:2,3]\n",
    "    \n",
    "    e_prev = e\n",
    "    e_del_t0 = np.subtract(e,e_t0)\n",
    "    e_del_t1 = np.subtract(e,e_t1)\n",
    "    e_del_t2 = np.subtract(e,e_t2)\n",
    "    \n",
    "    J = np.c_[e_del_t0,e_del_t1,e_del_t2]\n",
    "    \n",
    "    J_inv = np.dot((np.linalg.inv(np.transpose(J)*J)),np.transpose(J))\n",
    "    \n",
    "    # Finding new End effector position\n",
    "    sign_x = int(sign(e_des[0][0] , e[0][0]))\n",
    "    sign_y = int(sign(e_des[1][0] , e[1][0]))\n",
    "    \n",
    "    \n",
    "    p = 0.00001\n",
    "    x_p = float(e[0][0] + p*sign_x)\n",
    "    y_p = float(e[1][0] + p*sign_y)\n",
    "    \n",
    "    e_del_x = float(e[0][0] - x_p)\n",
    "    e_del_y = float(e[1][0] - y_p)\n",
    "    \n",
    "    e_del_norm = [[e_del_x],[e_del_y]]\n",
    "    t_del = np.dot(J_inv,e_del_norm)\n",
    "    \n",
    "    t_new = np.add([[t0],[t1],[t2]],t_del)\n",
    "    t0 = float(t_new[0][0])\n",
    "    t1 = float(t_new[1][0])\n",
    "    t2 = float(t_new[2][0])\n",
    "    \n",
    "    t0_0 = t0 + dT0\n",
    "    t0_1 = t1 + dT0\n",
    "    t0_2 = t2 + dT0\n",
    "\n",
    "    met = np.sqrt((e[0][0]-e_des[0][0])**2 +(e[1][0]-e_des[1][0])**2)\n",
    "    \n",
    "    # Plot \n",
    "    plt.plot(0,0,'ko')\n",
    "    #plt.plot(np.squeeze(np.asarray(ini_pos[0][0])), np.squeeze(np.asarray(ini_pos[1][0])), 'yo')    \n",
    "    plt.plot(e[0][0], e[1][0], 'r>')\n",
    "    plt.plot(e_des[0][0], e_des[1][0], 'bo')\n",
    "    plt.show\n",
    "    \n",
    "    if met < 0.3 : inside = False"
   ]
  },
  {
   "cell_type": "code",
   "execution_count": 209,
   "metadata": {},
   "outputs": [],
   "source": [
    "inside = True"
   ]
  },
  {
   "cell_type": "code",
   "execution_count": 210,
   "metadata": {},
   "outputs": [
    {
     "data": {
      "text/plain": [
       "matrix([[ 0.05604895],\n",
       "        [-0.00274735]])"
      ]
     },
     "execution_count": 210,
     "metadata": {},
     "output_type": "execute_result"
    }
   ],
   "source": [
    "e_del_t0"
   ]
  },
  {
   "cell_type": "code",
   "execution_count": 211,
   "metadata": {},
   "outputs": [
    {
     "data": {
      "text/plain": [
       "matrix([[0.99992029],\n",
       "        [1.99995009],\n",
       "        [2.99994296]])"
      ]
     },
     "execution_count": 211,
     "metadata": {},
     "output_type": "execute_result"
    }
   ],
   "source": [
    "x = np.add([[1],[2],[3]],t_del)\n",
    "x"
   ]
  },
  {
   "cell_type": "code",
   "execution_count": 212,
   "metadata": {},
   "outputs": [
    {
     "data": {
      "text/plain": [
       "matrix([[-7.97054471e-05],\n",
       "        [-4.99078499e-05],\n",
       "        [-5.70360750e-05]])"
      ]
     },
     "execution_count": 212,
     "metadata": {},
     "output_type": "execute_result"
    }
   ],
   "source": [
    "t_del"
   ]
  },
  {
   "cell_type": "code",
   "execution_count": 213,
   "metadata": {},
   "outputs": [
    {
     "data": {
      "text/plain": [
       "matrix([[0.99992029]])"
      ]
     },
     "execution_count": 213,
     "metadata": {},
     "output_type": "execute_result"
    }
   ],
   "source": [
    "x[0][0]"
   ]
  },
  {
   "cell_type": "code",
   "execution_count": null,
   "metadata": {},
   "outputs": [],
   "source": []
  }
 ],
 "metadata": {
  "kernelspec": {
   "display_name": "Python 3",
   "language": "python",
   "name": "python3"
  },
  "language_info": {
   "codemirror_mode": {
    "name": "ipython",
    "version": 3
   },
   "file_extension": ".py",
   "mimetype": "text/x-python",
   "name": "python",
   "nbconvert_exporter": "python",
   "pygments_lexer": "ipython3",
   "version": "3.7.3"
  }
 },
 "nbformat": 4,
 "nbformat_minor": 2
}
