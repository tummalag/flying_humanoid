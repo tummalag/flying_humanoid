{
 "cells": [
  {
   "cell_type": "code",
   "execution_count": 1,
   "metadata": {},
   "outputs": [],
   "source": [
    "import numpy as np\n",
    "from numpy.linalg import pinv\n",
    "from time import time\n",
    "import matplotlib.pyplot as plt\n",
    "import matplotlib.animation as animation"
   ]
  },
  {
   "cell_type": "code",
   "execution_count": 2,
   "metadata": {},
   "outputs": [],
   "source": [
    "# lengths in m \n",
    "l0 = 0.12225\n",
    "l1 = 0.056\n",
    "l2 = 0.177\n",
    "l3 = 0.135952\n",
    "\n",
    "# origin\n",
    "x0 = 0\n",
    "y0 = 0\n",
    "z0 = 0"
   ]
  },
  {
   "cell_type": "code",
   "execution_count": 3,
   "metadata": {},
   "outputs": [],
   "source": [
    "# Metric\n",
    "\n",
    "metric = 0.01 \n",
    "\n",
    "# Destination\n",
    "\n",
    "e_des = [-0.04127370851174543,-0.1709845251223143]\n",
    "\n",
    "#e_x_des = 0\n",
    "#y = -0.04127370851174543\n",
    "#z = -0.1709845251223143\n",
    "\n",
    "# Time period\n",
    "dt = 0.001\n",
    "\n",
    "dt0 = [dt,0,0,0]\n",
    "dt1 = [0,dt,0,0]\n",
    "dt2 = [0,0,dt,0]\n",
    "dt3 = [0,0,0,dt]\n",
    "\n",
    "# linearisation val\n",
    "e_lin = 0.01"
   ]
  },
  {
   "cell_type": "code",
   "execution_count": 20,
   "metadata": {},
   "outputs": [],
   "source": [
    "class ForwardKinematics():\n",
    "    \n",
    "    def get_right_end_eff(self,t=[0,0,0,0]):\n",
    "        (t0,t1,t2,t3) = t\n",
    "        #print(t)\n",
    "        x = np.cumsum([x0,0,0,0,0])\n",
    "\n",
    "        y = np.cumsum([y0  , -(l0*np.cos(t0))      ,   -(l1*np.cos(t0 + t1)),\\\n",
    "                           l2*np.sin(t0 + t1 + t2) ,   l3*np.sin(t0 + t1 + t2 + t3)  ])\n",
    "\n",
    "        z = np.cumsum([z0,  l0*np.sin(t0)          ,   l1*np.sin(t0 + t1) , \\\n",
    "                         -(l2*np.cos(t0 + t1 + t2)), -(l3*np.cos(t0 + t1 + t2 + t3)) ])\n",
    "        \n",
    "        #print(\"right posi\",x,y,z,sep='\\n', end='\\n\\n')\n",
    "        return list(x),list(y),list(z) \n",
    "\n",
    "    def get_right_orientation(self,t=(0,0,0,0)):\n",
    "        (t0,t1,t2,t3) = t\n",
    "        #print(t)\n",
    "        \n",
    "        xt = np.cumsum([t0,  t1,  t2-1.5708,  t3])\n",
    "        yt = np.cumsum([ 0,  0 ,     0     ,   0])\n",
    "        zt = np.cumsum([ 0,  0 ,     0     ,   0])\n",
    "        \n",
    "        #print(\"right orient\",xt,yt,zt,sep='\\n', end='\\n\\n')\n",
    "        return list(xt),list(yt),list(zt) \n",
    "    \n",
    "    def get_left_end_eff(self,t=(0,0,0,0)):\n",
    "        (t0,t1,t2,t3) = t\n",
    "\n",
    "        x = np.cumsum([x0,0,0,0,0])\n",
    "\n",
    "        y = np.cumsum([y0, l0*np.cos(t0)          ,       l1*np.cos(t0 + t1),  \\\n",
    "                          l2*np.sin(t0 + t1 + t2) ,   l3*np.sin(t0 + t1 + t2 + t3) ])\n",
    "\n",
    "        z = np.cumsum([z0, l0*np.sin(t0)          ,     l1*np.sin(t0 + t1), \\\n",
    "                         - l2*np.cos(t0 + t1 + t2), - l3*np.cos(t0 + t1 + t2 + t3) ])\n",
    "        \n",
    "        #print(\"left posi\",x,y,z,sep='\\n',end='\\n\\n')\n",
    "        return list(x),list(y),list(z)    \n",
    "\n",
    "    def get_left_orientation(self,t=(0,0,0,0)):\n",
    "        (t0,t1,t2,t3) = t\n",
    "        \n",
    "        xt = np.cumsum([t0,  t1,  t2-1.5708,  t3])\n",
    "        yt = np.cumsum([ 0,  0 ,     0     ,   0])\n",
    "        zt = np.cumsum([ 0,  0 ,     0     ,   0])\n",
    "        \n",
    "        #print(\"left orient\",xt,yt,zt,sep='\\n', end='\\n\\n')\n",
    "        return list(xt),list(yt),list(zt) \n",
    "    "
   ]
  },
  {
   "cell_type": "code",
   "execution_count": 11,
   "metadata": {},
   "outputs": [],
   "source": [
    "class InverseKinematics(ForwardKinematics):\n",
    "    def __init__(self, t=(0,0,0,0)):\n",
    "        self.t = t\n",
    "            \n",
    "    def de_dt(self,d_t):\n",
    "        t = self.t\n",
    "        #print(d_t)\n",
    "        end_eff_right_t = ForwardKinematics.get_right_end_eff(t)\n",
    "        #print(end_eff_right_t)\n",
    "        end_eff_right_dt = ForwardKinematics.get_right_end_eff(d_t)\n",
    "        #print(end_eff_right_dt)\n",
    "        # Right arm del_e\n",
    "        del_e_x,del_e_y,del_e_z = [map(lambda x1,x2: x1-x2,i,j) for i,j in zip(end_eff_right_dt,end_eff_right_t)]\n",
    "        # Jacobian elements for right arm\n",
    "        del_e_dt = [list(map(lambda x: x/dt, list(del_e_x))),list(map(lambda x: x/dt, list(del_e_y))),list(map(lambda x: x/dt, list(del_e_z)))]\n",
    "        return del_e_dt\n",
    "            \n",
    "    def jacobian(self,t):\n",
    "        pass\n",
    "    \n",
    "    \n",
    "    def step(self,dt):\n",
    "        pass\n",
    "    "
   ]
  },
  {
   "cell_type": "code",
   "execution_count": 6,
   "metadata": {},
   "outputs": [
    {
     "ename": "NameError",
     "evalue": "name 't0' is not defined",
     "output_type": "error",
     "traceback": [
      "\u001b[1;31m---------------------------------------------------------------------------\u001b[0m",
      "\u001b[1;31mNameError\u001b[0m                                 Traceback (most recent call last)",
      "\u001b[1;32m<ipython-input-6-13a7d2cbceb5>\u001b[0m in \u001b[0;36m<module>\u001b[1;34m\u001b[0m\n\u001b[0;32m      2\u001b[0m \u001b[0mt\u001b[0m \u001b[1;33m=\u001b[0m \u001b[1;33m[\u001b[0m\u001b[1;36m0\u001b[0m\u001b[1;33m,\u001b[0m\u001b[1;36m0\u001b[0m\u001b[1;33m,\u001b[0m\u001b[1;36m0\u001b[0m\u001b[1;33m,\u001b[0m\u001b[1;36m0\u001b[0m\u001b[1;33m]\u001b[0m\u001b[1;33m\u001b[0m\u001b[1;33m\u001b[0m\u001b[0m\n\u001b[0;32m      3\u001b[0m \u001b[1;33m\u001b[0m\u001b[0m\n\u001b[1;32m----> 4\u001b[1;33m \u001b[0mprint\u001b[0m\u001b[1;33m(\u001b[0m\u001b[0mik\u001b[0m\u001b[1;33m.\u001b[0m\u001b[0mde_dt\u001b[0m\u001b[1;33m(\u001b[0m\u001b[0mt0\u001b[0m\u001b[1;33m)\u001b[0m\u001b[1;33m)\u001b[0m\u001b[1;33m\u001b[0m\u001b[1;33m\u001b[0m\u001b[0m\n\u001b[0m\u001b[0;32m      5\u001b[0m \u001b[0mprint\u001b[0m\u001b[1;33m(\u001b[0m\u001b[0mik\u001b[0m\u001b[1;33m.\u001b[0m\u001b[0mde_dt\u001b[0m\u001b[1;33m(\u001b[0m\u001b[0mt1\u001b[0m\u001b[1;33m)\u001b[0m\u001b[1;33m)\u001b[0m\u001b[1;33m\u001b[0m\u001b[1;33m\u001b[0m\u001b[0m\n\u001b[0;32m      6\u001b[0m \u001b[0mprint\u001b[0m\u001b[1;33m(\u001b[0m\u001b[0mik\u001b[0m\u001b[1;33m.\u001b[0m\u001b[0mde_dt\u001b[0m\u001b[1;33m(\u001b[0m\u001b[0mt2\u001b[0m\u001b[1;33m)\u001b[0m\u001b[1;33m)\u001b[0m\u001b[1;33m\u001b[0m\u001b[1;33m\u001b[0m\u001b[0m\n",
      "\u001b[1;31mNameError\u001b[0m: name 't0' is not defined"
     ]
    }
   ],
   "source": [
    "ik = InverseKinematics()\n",
    "t = [0,0,0,0]\n",
    "\n",
    "print(ik.de_dt(t0))\n",
    "print(ik.de_dt(t1))\n",
    "print(ik.de_dt(t2))\n",
    "print(ik.de_dt(t3))\n",
    "\n"
   ]
  },
  {
   "cell_type": "code",
   "execution_count": null,
   "metadata": {},
   "outputs": [],
   "source": []
  },
  {
   "cell_type": "code",
   "execution_count": null,
   "metadata": {},
   "outputs": [],
   "source": [
    "\"\"\"\n",
    "fk = ForwardKinematics()\n",
    "plot_right_arm = fk.get_right_end_eff(t = (0.20314665114965644, -0.03810708184309147, -0.1511655022522028, 0.22344126640842352))\n",
    "fk.get_right_orientation(t = (0.1,0.1,0.1,0.1))\n",
    "plot_left_arm = fk.get_left_end_eff(t = (0.1,0.1,0.1,0.1))\n",
    "fk.get_left_orientation(t = (0.1,0.1,0.1,0.1))\n",
    "\"\"\""
   ]
  },
  {
   "cell_type": "code",
   "execution_count": null,
   "metadata": {},
   "outputs": [],
   "source": [
    "    "
   ]
  },
  {
   "cell_type": "code",
   "execution_count": null,
   "metadata": {},
   "outputs": [],
   "source": []
  },
  {
   "cell_type": "code",
   "execution_count": null,
   "metadata": {},
   "outputs": [],
   "source": []
  },
  {
   "cell_type": "code",
   "execution_count": null,
   "metadata": {},
   "outputs": [],
   "source": []
  },
  {
   "cell_type": "code",
   "execution_count": null,
   "metadata": {},
   "outputs": [],
   "source": []
  }
 ],
 "metadata": {
  "kernelspec": {
   "display_name": "Python 3",
   "language": "python",
   "name": "python3"
  },
  "language_info": {
   "codemirror_mode": {
    "name": "ipython",
    "version": 3
   },
   "file_extension": ".py",
   "mimetype": "text/x-python",
   "name": "python",
   "nbconvert_exporter": "python",
   "pygments_lexer": "ipython3",
   "version": "3.7.3"
  }
 },
 "nbformat": 4,
 "nbformat_minor": 2
}
