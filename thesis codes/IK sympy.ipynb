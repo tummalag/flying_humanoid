{
 "cells": [
  {
   "cell_type": "code",
   "execution_count": 1,
   "metadata": {},
   "outputs": [],
   "source": [
    "from sympy import *"
   ]
  },
  {
   "cell_type": "code",
   "execution_count": 7,
   "metadata": {
    "scrolled": true
   },
   "outputs": [
    {
     "data": {
      "text/plain": [
       "Integral(exp(x)*cos(x), x)"
      ]
     },
     "metadata": {},
     "output_type": "display_data"
    },
    {
     "data": {
      "text/plain": [
       "Eq(Integral(exp(x)*cos(x), x), exp(x)*sin(x)/2 + exp(x)*cos(x)/2)"
      ]
     },
     "metadata": {},
     "output_type": "display_data"
    }
   ],
   "source": [
    "x = symbols(\"x\")\n",
    "a = Integral(cos(x)*exp(x), x)\n",
    "display(a)\n",
    "b = Eq(a, a.doit())\n",
    "display(b)"
   ]
  },
  {
   "cell_type": "code",
   "execution_count": 9,
   "metadata": {},
   "outputs": [],
   "source": [
    "t0 = 0\n",
    "t1 = 0\n",
    "\n",
    "a0 = 2\n",
    "a1 = 7\n",
    "\n",
    "t0 = t0/180*pi\n",
    "t1 = t1/180*pi\n",
    "\n",
    "dT0 = 0.00001\n",
    "\n",
    "t0_1 = t0 + dT0\n",
    "t1_1 = t1 + dT0"
   ]
  },
  {
   "cell_type": "code",
   "execution_count": 10,
   "metadata": {},
   "outputs": [],
   "source": [
    "def end_eff_pos(t0,t1,t2):\n",
    "    # Parameter table with columns \" theta, alpha, r or a, d \"\n",
    "\n",
    "    \n",
    "    \n",
    "    \n",
    "    param_tab = [[t0 ,      0         ,  a0  ,  0  ],\n",
    "                 [t1 ,      0         ,  a1  ,  0  ],\n",
    "                 [t2 ,      0         ,  a2  ,  0  ]]\n",
    "    \n",
    "    # Transformation matrix\n",
    "\n",
    "    i=0\n",
    "    T0_1 = [[cos(param_tab[i][0]) , -cos(param_tab[i][1])*sin(param_tab[i][0]) , sin(param_tab[i][1])*sin(param_tab[i][0]) , param_tab[i][2]*cos(param_tab[i][0])],\n",
    "            [sin(param_tab[i][0]) , cos(param_tab[i][1])*cos(param_tab[i][0]) , -sin(param_tab[i][1])*cos(param_tab[i][0]) , param_tab[i][2]*sin(param_tab[i][0])],\n",
    "            [           0            ,            sin(param_tab[i][1])              ,       cos(param_tab[i][1])                    ,     param_tab[i][3]                    ],\n",
    "            [0  ,  0  ,  0  ,  1 ]]\n",
    "\n",
    "    i=1\n",
    "    T1_2 = [[cos(param_tab[i][0]) , -cos(param_tab[i][1])*sin(param_tab[i][0]) , sin(param_tab[i][1])*sin(param_tab[i][0]) , param_tab[i][2]*cos(param_tab[i][0])],\n",
    "            [sin(param_tab[i][0]) , cos(param_tab[i][1])*cos(param_tab[i][0]) , -sin(param_tab[i][1])*cos(param_tab[i][0]) , param_tab[i][2]*sin(param_tab[i][0])],\n",
    "            [           0            ,            sin(param_tab[i][1])              ,       cos(param_tab[i][1])                    ,     param_tab[i][3]                    ],\n",
    "            [0  ,  0  ,  0  ,  1 ]]\n",
    "    i=2\n",
    "    T2_3 = [[cos(param_tab[i][0]) , -cos(param_tab[i][1])*sin(param_tab[i][0]) , sin(param_tab[i][1])*sin(param_tab[i][0]) , param_tab[i][2]*cos(param_tab[i][0])],\n",
    "            [sin(param_tab[i][0]) , cos(param_tab[i][1])*cos(param_tab[i][0]) , -sin(param_tab[i][1])*cos(param_tab[i][0]) , param_tab[i][2]*sin(param_tab[i][0])],\n",
    "            [           0            ,            sin(param_tab[i][1])              ,       cos(param_tab[i][1])                    ,     param_tab[i][3]                    ],\n",
    "            [0  ,  0  ,  0  ,  1 ]]\n",
    "    # Finding T0_3 matrix\n",
    "\n",
    "    T0_2 = np.dot(T0_1,T1_2)\n",
    "    T0_3 = np.dot(T0_2,T2_3)\n",
    "    \n",
    "    O0_3 = np.matrix(T0_3)[0:3,3]  # End Effector\n",
    "    \n",
    "    return O0_3    \n",
    "    \n",
    "    "
   ]
  },
  {
   "cell_type": "code",
   "execution_count": 11,
   "metadata": {},
   "outputs": [],
   "source": [
    "def sign(a,b):\n",
    "    return sign(subtract(a,b))"
   ]
  },
  {
   "cell_type": "code",
   "execution_count": null,
   "metadata": {},
   "outputs": [],
   "source": []
  }
 ],
 "metadata": {
  "kernelspec": {
   "display_name": "Python 3",
   "language": "python",
   "name": "python3"
  },
  "language_info": {
   "codemirror_mode": {
    "name": "ipython",
    "version": 3
   },
   "file_extension": ".py",
   "mimetype": "text/x-python",
   "name": "python",
   "nbconvert_exporter": "python",
   "pygments_lexer": "ipython3",
   "version": "3.7.3"
  }
 },
 "nbformat": 4,
 "nbformat_minor": 2
}
