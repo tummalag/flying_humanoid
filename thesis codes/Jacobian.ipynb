{
 "cells": [
  {
   "cell_type": "code",
   "execution_count": 1,
   "metadata": {},
   "outputs": [],
   "source": [
    "import numpy as np\n",
    "import time\n",
    "import matplotlib.pyplot as plt\n",
    "from numpy import matrix\n",
    "from numpy.linalg import inv\n"
   ]
  },
  {
   "cell_type": "code",
   "execution_count": 4,
   "metadata": {},
   "outputs": [],
   "source": [
    "def end_pos(x0,y0,z0,t0,t1,t2,t3,l0,l1,l2,l3):\n",
    "    y1 = y0 + l0*np.cos(t0)\n",
    "    z1 = z0 + l0*np.sin(t0)\n",
    "    x1 = x0\n",
    "\n",
    "    y2 = y1 + l1*np.cos(t0 + t1)\n",
    "    z2 = z1 + l1*np.sin(t0 + t1)\n",
    "    x2 = x1\n",
    "\n",
    "    y3 = y2 + l2*np.sin(t0 + t1 + t2)\n",
    "    z3 = z2 + l2*np.cos(t0 + t1 + t2)\n",
    "    x3 = x2\n",
    "\n",
    "    ye = y3 + l3*np.sin(t0 + t1 + t2 + t3)\n",
    "    ze = z3 + l3*np.cos(t0 + t1 + t2 + t3)\n",
    "    xe = x3\n",
    "\n",
    "    print(\"End eff position :(\",xe,\",\",ye,\",\",ze,\")\")\n",
    "    return xe,ye,ze\n",
    "\n",
    "def end_orien(t0,t1,t2,t3):\n",
    "    t1_1 = t0\n",
    "    t2_1 = t1_1 + t1\n",
    "    t3_1 = t2_1 + t2\n",
    "    te_1 = t3_1 + t3\n",
    "    tex = te_1\n",
    "    tey = 0\n",
    "    tez = 0\n",
    "\n",
    "    print(\"End eff orientation :\",tex )\n",
    "    return tex,tey,tez\n",
    "\n",
    "\n",
    "def main():\n",
    "    print(\"Please enter the following parameters \")\n",
    "    x0,y0,z0 = [int(x) for x in input(\"Origin (x0,y0,z0) = \").split(',')]\n",
    "    t0,t1,t2,t3 = [float(x) for x in input(\"thetas in rads(t0,t1,t2,t3) = \").split(',')]\n",
    "    l0,l1,l2,l3 = [float(x) for x in input(\"lengths in m(l0,l1,l2,l3) = \").split(',')]\n",
    "    x,y,z = end_pos(x0,y0,z0,t0,t1,t2,t3,l0,l1,l2,l3)\n",
    "    tx,ty,tz = end_orien(t0,t1,t2,t3)\n",
    "    \n",
    "    dt = 0.001\n",
    "    e = np.matrix(x,y,z)\n",
    "    e_t0 = np.matrix(end_pos(x0,y0,z0,t0+dt,t1,t2,t3,l0,l1,l2,l3))\n",
    "    e_t1 = np.matrix(end_pos(x0,y0,z0,t0,t1+dt,t2,t3,l0,l1,l2,l3))\n",
    "    e_t2 = np.matrix(end_pos(x0,y0,z0,t0,t1,t2+dt,t3,l0,l1,l2,l3))\n",
    "    e_t3 = np.matrix(end_pos(x0,y0,z0,t0,t1,t2,t3+dt,l0,l1,l2,l3))\n",
    "    \n",
    "    e_del_t0 = np.subtract(e)"
   ]
  },
  {
   "cell_type": "code",
   "execution_count": 5,
   "metadata": {},
   "outputs": [
    {
     "name": "stdout",
     "output_type": "stream",
     "text": [
      "Please enter the following parameters \n",
      "Origin (x0,y0,z0) = 0,0,0\n",
      "thetas in rads(t0,t1,t2,t3) = 1,2,3,4\n",
      "lengths in m(l0,l1,l2,l3) = 1,2,3,4\n",
      "End eff position :( 0 , -4.454013625487008 , 0.6479357445729197 )\n",
      "End eff orientation : 10.0\n",
      "End eff position :( 0 , -4.455610884471082 , 0.6495100685934525 )\n",
      "End eff position :( 0 , -4.454769143475389 , 0.6489701871130928 )\n",
      "End eff position :( 0 , -4.454487893498723 , 0.6509503128962915 )\n",
      "End eff position :( 0 , -4.457368823001806 , 0.6501135067967172 )\n"
     ]
    },
    {
     "ename": "ValueError",
     "evalue": "invalid number of arguments",
     "output_type": "error",
     "traceback": [
      "\u001b[1;31m---------------------------------------------------------------------------\u001b[0m",
      "\u001b[1;31mValueError\u001b[0m                                Traceback (most recent call last)",
      "\u001b[1;32m<ipython-input-5-263240bbee7e>\u001b[0m in \u001b[0;36m<module>\u001b[1;34m\u001b[0m\n\u001b[1;32m----> 1\u001b[1;33m \u001b[0mmain\u001b[0m\u001b[1;33m(\u001b[0m\u001b[1;33m)\u001b[0m\u001b[1;33m\u001b[0m\u001b[1;33m\u001b[0m\u001b[0m\n\u001b[0m",
      "\u001b[1;32m<ipython-input-4-eec28ac37756>\u001b[0m in \u001b[0;36mmain\u001b[1;34m()\u001b[0m\n\u001b[0;32m     47\u001b[0m     \u001b[0me_t3\u001b[0m \u001b[1;33m=\u001b[0m \u001b[0mnp\u001b[0m\u001b[1;33m.\u001b[0m\u001b[0mmatrix\u001b[0m\u001b[1;33m(\u001b[0m\u001b[0mend_pos\u001b[0m\u001b[1;33m(\u001b[0m\u001b[0mx0\u001b[0m\u001b[1;33m,\u001b[0m\u001b[0my0\u001b[0m\u001b[1;33m,\u001b[0m\u001b[0mz0\u001b[0m\u001b[1;33m,\u001b[0m\u001b[0mt0\u001b[0m\u001b[1;33m,\u001b[0m\u001b[0mt1\u001b[0m\u001b[1;33m,\u001b[0m\u001b[0mt2\u001b[0m\u001b[1;33m,\u001b[0m\u001b[0mt3\u001b[0m\u001b[1;33m+\u001b[0m\u001b[0mdt\u001b[0m\u001b[1;33m,\u001b[0m\u001b[0ml0\u001b[0m\u001b[1;33m,\u001b[0m\u001b[0ml1\u001b[0m\u001b[1;33m,\u001b[0m\u001b[0ml2\u001b[0m\u001b[1;33m,\u001b[0m\u001b[0ml3\u001b[0m\u001b[1;33m)\u001b[0m\u001b[1;33m)\u001b[0m\u001b[1;33m\u001b[0m\u001b[1;33m\u001b[0m\u001b[0m\n\u001b[0;32m     48\u001b[0m \u001b[1;33m\u001b[0m\u001b[0m\n\u001b[1;32m---> 49\u001b[1;33m     \u001b[0me_del_t0\u001b[0m \u001b[1;33m=\u001b[0m \u001b[0mnp\u001b[0m\u001b[1;33m.\u001b[0m\u001b[0msubtract\u001b[0m\u001b[1;33m(\u001b[0m\u001b[0me\u001b[0m\u001b[1;33m)\u001b[0m\u001b[1;33m\u001b[0m\u001b[1;33m\u001b[0m\u001b[0m\n\u001b[0m",
      "\u001b[1;31mValueError\u001b[0m: invalid number of arguments"
     ]
    }
   ],
   "source": [
    "main()"
   ]
  },
  {
   "cell_type": "code",
   "execution_count": null,
   "metadata": {},
   "outputs": [],
   "source": [
    "e = "
   ]
  },
  {
   "cell_type": "code",
   "execution_count": null,
   "metadata": {},
   "outputs": [],
   "source": []
  }
 ],
 "metadata": {
  "kernelspec": {
   "display_name": "Python 3",
   "language": "python",
   "name": "python3"
  },
  "language_info": {
   "codemirror_mode": {
    "name": "ipython",
    "version": 3
   },
   "file_extension": ".py",
   "mimetype": "text/x-python",
   "name": "python",
   "nbconvert_exporter": "python",
   "pygments_lexer": "ipython3",
   "version": "3.7.3"
  }
 },
 "nbformat": 4,
 "nbformat_minor": 2
}
