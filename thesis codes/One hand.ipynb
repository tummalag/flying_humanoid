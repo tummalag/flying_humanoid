{
 "cells": [
  {
   "cell_type": "code",
   "execution_count": 29,
   "metadata": {},
   "outputs": [],
   "source": [
    "import numpy as np\n",
    "import matplotlib.pyplot as plt"
   ]
  },
  {
   "cell_type": "code",
   "execution_count": 35,
   "metadata": {},
   "outputs": [],
   "source": [
    "# Initialising values here\n",
    "# Theta Values in degree\n",
    "\n",
    "tf = 0\n",
    "t0 = 90\n",
    "t1 = 0\n",
    "te = 0\n",
    "\n",
    "# Theta Values in radians\n",
    "\n",
    "tf = tf/180*np.pi\n",
    "t0 = t0/180*np.pi\n",
    "t1 = t1/180*np.pi\n",
    "te = te/180*np.pi\n",
    "\n",
    "# Translational Elementsin inches\n",
    "\n",
    "a0 = 3\n",
    "a1 = 3\n",
    "a2 = 3\n",
    "ae = 3\n",
    "\n",
    "# del theta change in angles\n",
    "\n",
    "dT0 = 0.001\n",
    "\n",
    "t0_1 = t0 + dT0\n",
    "t1_1 = t1 + dT0\n",
    "te_1 = te + dT0\n",
    "\n",
    "# p is set distance\n",
    "p = 0.01\n",
    "q = 0.05\n",
    "\n",
    "# Desired values\n",
    "# Traslation vectors x,y,z are\n",
    "x_des = -3\n",
    "y_des = -8\n",
    "phi_des = 90\n",
    "\n",
    "phi_des = phi_des/180*np.pi\n",
    "e_des = np.matrix([[x_des],\\\n",
    "                   [y_des],\\\n",
    "                   [phi_des]])\n",
    "\n",
    "inside = True"
   ]
  },
  {
   "cell_type": "code",
   "execution_count": 36,
   "metadata": {},
   "outputs": [],
   "source": [
    "def end_eff_pos(t0,t1,te):\n",
    "    # Parameter table with columns \" theta, alpha, r or a, d \n",
    "    \n",
    "    param_tab = [[tf ,      0         ,  -a0   ,  0  ],\n",
    "                 [t0 ,      0         ,  -a1   ,  0  ],\n",
    "                 [t1 ,      0         ,  -a2   ,  0  ],\n",
    "                 [te ,      0         ,  -ae   ,  0  ]]\n",
    "    \n",
    "    # Transformation matrix\n",
    "\n",
    "    i=0\n",
    "    T0_1 = [[np.cos(param_tab[i][0]) , -np.cos(param_tab[i][1])*np.sin(param_tab[i][0]), np.sin(param_tab[i][1])*np.sin(param_tab[i][0])  , param_tab[i][2]*np.cos(param_tab[i][0])],\n",
    "            [np.sin(param_tab[i][0]) , np.cos(param_tab[i][1])*np.cos(param_tab[i][0]) , -np.sin(param_tab[i][1])*np.cos(param_tab[i][0]) , param_tab[i][2]*np.sin(param_tab[i][0])],\n",
    "            [           0            ,            np.sin(param_tab[i][1])              ,       np.cos(param_tab[i][1])                    ,     param_tab[i][3]                    ],\n",
    "            [0  ,  0  ,  0  ,  1 ]]\n",
    "\n",
    "    i=1\n",
    "    T1_2 = [[np.cos(param_tab[i][0]) , -np.cos(param_tab[i][1])*np.sin(param_tab[i][0]), np.sin(param_tab[i][1])*np.sin(param_tab[i][0])  , param_tab[i][2]*np.cos(param_tab[i][0])],\n",
    "            [np.sin(param_tab[i][0]) , np.cos(param_tab[i][1])*np.cos(param_tab[i][0]) , -np.sin(param_tab[i][1])*np.cos(param_tab[i][0]) , param_tab[i][2]*np.sin(param_tab[i][0])],\n",
    "            [           0            ,            np.sin(param_tab[i][1])              ,       np.cos(param_tab[i][1])                    ,     param_tab[i][3]                    ],\n",
    "            [0  ,  0  ,  0  ,  1 ]]\n",
    "\n",
    "    i=2\n",
    "    T2_3 = [[np.cos(param_tab[i][0]) , -np.cos(param_tab[i][1])*np.sin(param_tab[i][0]), np.sin(param_tab[i][1])*np.sin(param_tab[i][0])  , param_tab[i][2]*np.cos(param_tab[i][0])],\n",
    "            [np.sin(param_tab[i][0]) , np.cos(param_tab[i][1])*np.cos(param_tab[i][0]) , -np.sin(param_tab[i][1])*np.cos(param_tab[i][0]) , param_tab[i][2]*np.sin(param_tab[i][0])],\n",
    "            [           0            ,            np.sin(param_tab[i][1])              ,       np.cos(param_tab[i][1])                    ,     param_tab[i][3]                    ],\n",
    "            [0  ,  0  ,  0  ,  1 ]]\n",
    "    \n",
    "    i=3\n",
    "    T3_4 = [[np.cos(param_tab[i][0]) , -np.cos(param_tab[i][1])*np.sin(param_tab[i][0]), np.sin(param_tab[i][1])*np.sin(param_tab[i][0])  , param_tab[i][2]*np.cos(param_tab[i][0])],\n",
    "            [np.sin(param_tab[i][0]) , np.cos(param_tab[i][1])*np.cos(param_tab[i][0]) , -np.sin(param_tab[i][1])*np.cos(param_tab[i][0]) , param_tab[i][2]*np.sin(param_tab[i][0])],\n",
    "            [           0            ,            np.sin(param_tab[i][1])              ,       np.cos(param_tab[i][1])                    ,     param_tab[i][3]                    ],\n",
    "            [0  ,  0  ,  0  ,  1 ]]\n",
    "    \n",
    "    \n",
    "    # End Effector Position\n",
    "    \n",
    "    # O0_N = T0_N[0:3,3]\n",
    "    \n",
    "    # Pitch-Roll-Yaw Angles Respectively\n",
    "    \n",
    "    # theta0_N = np.arcsin(-T0_N[2][0])\n",
    "    # psi0_N = np.arccos((T0_N[2][2])/np.cos(theta0_N))\n",
    "    # phi0_N = np.arccos((T0_N[0][0])/np.cos(theta0_N))\n",
    "    \n",
    "    # Finding T0_3 matrix\n",
    "    \n",
    "    T0_2 = np.round(np.dot(T0_1,T1_2),2)\n",
    "    T0_3 = np.round(np.dot(T0_2,T2_3),2)\n",
    "    T0_4 = np.round(np.dot(T0_3,T3_4),2)\n",
    "    '''\n",
    "    T0_2 = np.dot(T0_1,T1_2)\n",
    "    T0_3 = np.dot(T0_2,T2_3)\n",
    "    T0_4 = np.dot(T0_3,T3_4)\n",
    "    '''\n",
    "    \n",
    "    '''\n",
    "    print(T0_1)\n",
    "    print(T0_2)\n",
    "    print(T0_3)\n",
    "    print(T0_4)\n",
    "    '''\n",
    "    O0_1 = np.matrix(T0_1)[0:3,3]\n",
    "    O0_2 = np.matrix(T0_2)[0:3,3]\n",
    "    O0_3 = np.matrix(T0_3)[0:3,3]\n",
    "    O0_4 = np.matrix(T0_4)[0:3,3]  # End Effector position\n",
    "    \n",
    "    theta0_4 = np.arcsin(-T0_4[2][0])\n",
    "    psi0_4 = np.arccos((T0_4[2][2])/np.cos(theta0_4))\n",
    "    phi0_4 = np.arccos((T0_4[0][0])/np.cos(theta0_4))\n",
    "    '''\n",
    "    #phi0_4 = phi0_4*180/np.pi\n",
    "    print(theta0_4)\n",
    "    print(psi0_4)\n",
    "    print(phi0_4)\n",
    "    print(O0_4)\n",
    "    '''\n",
    "    \n",
    "    # Plotting Y and Z axis\n",
    "    #plt.plot(0,0,'ko') \n",
    "    #plt.plot(np.squeeze(np.asarray(O0_1[0][0])), np.squeeze(np.asarray(O0_1[1][0])), 'g>')\n",
    "    #plt.plot(np.squeeze(np.asarray(O0_2[0][0])), np.squeeze(np.asarray(O0_2[1][0])), 'c>')\n",
    "    #plt.plot(np.squeeze(np.asarray(O0_3[0][0])), np.squeeze(np.asarray(O0_3[1][0])), 'b>')\n",
    "    #plt.plot(np.squeeze(np.asarray(O0_4[0][0])), np.squeeze(np.asarray(O0_4[1][0])), 'y>')\n",
    "\n",
    "    req_e = np.matrix([[np.squeeze(np.asarray(O0_4[0][0]))],\\\n",
    "               [np.squeeze(np.asarray(O0_4[1][0]))],\\\n",
    "               [phi0_4]])\n",
    "    return req_e"
   ]
  },
  {
   "cell_type": "code",
   "execution_count": null,
   "metadata": {},
   "outputs": [],
   "source": []
  },
  {
   "cell_type": "code",
   "execution_count": 37,
   "metadata": {},
   "outputs": [],
   "source": [
    "ini_pos = end_eff_pos(t0,t1,te)\n"
   ]
  },
  {
   "cell_type": "code",
   "execution_count": 38,
   "metadata": {},
   "outputs": [],
   "source": [
    "def sign(a,b):\n",
    "    return np.sign(np.subtract(a,b))"
   ]
  },
  {
   "cell_type": "code",
   "execution_count": null,
   "metadata": {},
   "outputs": [],
   "source": [
    "while inside:\n"
   ]
  },
  {
   "cell_type": "code",
   "execution_count": 40,
   "metadata": {},
   "outputs": [
    {
     "name": "stdout",
     "output_type": "stream",
     "text": [
      "[[0. 0. 0.]\n",
      " [0. 0. 0.]\n",
      " [0. 0. 0.]]\n"
     ]
    },
    {
     "ename": "LinAlgError",
     "evalue": "Singular matrix",
     "output_type": "error",
     "traceback": [
      "\u001b[1;31m---------------------------------------------------------------------------\u001b[0m",
      "\u001b[1;31mLinAlgError\u001b[0m                               Traceback (most recent call last)",
      "\u001b[1;32m<ipython-input-40-9ef8e29efc26>\u001b[0m in \u001b[0;36m<module>\u001b[1;34m\u001b[0m\n\u001b[0;32m     39\u001b[0m \u001b[1;33m\u001b[0m\u001b[0m\n\u001b[0;32m     40\u001b[0m \u001b[1;33m\u001b[0m\u001b[0m\n\u001b[1;32m---> 41\u001b[1;33m     \u001b[0mJ_inv\u001b[0m \u001b[1;33m=\u001b[0m \u001b[0mnp\u001b[0m\u001b[1;33m.\u001b[0m\u001b[0mlinalg\u001b[0m\u001b[1;33m.\u001b[0m\u001b[0minv\u001b[0m\u001b[1;33m(\u001b[0m\u001b[0mJ\u001b[0m\u001b[1;33m)\u001b[0m\u001b[1;33m\u001b[0m\u001b[1;33m\u001b[0m\u001b[0m\n\u001b[0m\u001b[0;32m     42\u001b[0m \u001b[1;33m\u001b[0m\u001b[0m\n\u001b[0;32m     43\u001b[0m     \u001b[1;31m#print(J_inv)\u001b[0m\u001b[1;33m\u001b[0m\u001b[1;33m\u001b[0m\u001b[1;33m\u001b[0m\u001b[0m\n",
      "\u001b[1;32m~\\Anaconda3\\lib\\site-packages\\numpy\\linalg\\linalg.py\u001b[0m in \u001b[0;36minv\u001b[1;34m(a)\u001b[0m\n\u001b[0;32m    530\u001b[0m     \u001b[0msignature\u001b[0m \u001b[1;33m=\u001b[0m \u001b[1;34m'D->D'\u001b[0m \u001b[1;32mif\u001b[0m \u001b[0misComplexType\u001b[0m\u001b[1;33m(\u001b[0m\u001b[0mt\u001b[0m\u001b[1;33m)\u001b[0m \u001b[1;32melse\u001b[0m \u001b[1;34m'd->d'\u001b[0m\u001b[1;33m\u001b[0m\u001b[1;33m\u001b[0m\u001b[0m\n\u001b[0;32m    531\u001b[0m     \u001b[0mextobj\u001b[0m \u001b[1;33m=\u001b[0m \u001b[0mget_linalg_error_extobj\u001b[0m\u001b[1;33m(\u001b[0m\u001b[0m_raise_linalgerror_singular\u001b[0m\u001b[1;33m)\u001b[0m\u001b[1;33m\u001b[0m\u001b[1;33m\u001b[0m\u001b[0m\n\u001b[1;32m--> 532\u001b[1;33m     \u001b[0mainv\u001b[0m \u001b[1;33m=\u001b[0m \u001b[0m_umath_linalg\u001b[0m\u001b[1;33m.\u001b[0m\u001b[0minv\u001b[0m\u001b[1;33m(\u001b[0m\u001b[0ma\u001b[0m\u001b[1;33m,\u001b[0m \u001b[0msignature\u001b[0m\u001b[1;33m=\u001b[0m\u001b[0msignature\u001b[0m\u001b[1;33m,\u001b[0m \u001b[0mextobj\u001b[0m\u001b[1;33m=\u001b[0m\u001b[0mextobj\u001b[0m\u001b[1;33m)\u001b[0m\u001b[1;33m\u001b[0m\u001b[1;33m\u001b[0m\u001b[0m\n\u001b[0m\u001b[0;32m    533\u001b[0m     \u001b[1;32mreturn\u001b[0m \u001b[0mwrap\u001b[0m\u001b[1;33m(\u001b[0m\u001b[0mainv\u001b[0m\u001b[1;33m.\u001b[0m\u001b[0mastype\u001b[0m\u001b[1;33m(\u001b[0m\u001b[0mresult_t\u001b[0m\u001b[1;33m,\u001b[0m \u001b[0mcopy\u001b[0m\u001b[1;33m=\u001b[0m\u001b[1;32mFalse\u001b[0m\u001b[1;33m)\u001b[0m\u001b[1;33m)\u001b[0m\u001b[1;33m\u001b[0m\u001b[1;33m\u001b[0m\u001b[0m\n\u001b[0;32m    534\u001b[0m \u001b[1;33m\u001b[0m\u001b[0m\n",
      "\u001b[1;32m~\\Anaconda3\\lib\\site-packages\\numpy\\linalg\\linalg.py\u001b[0m in \u001b[0;36m_raise_linalgerror_singular\u001b[1;34m(err, flag)\u001b[0m\n\u001b[0;32m     87\u001b[0m \u001b[1;33m\u001b[0m\u001b[0m\n\u001b[0;32m     88\u001b[0m \u001b[1;32mdef\u001b[0m \u001b[0m_raise_linalgerror_singular\u001b[0m\u001b[1;33m(\u001b[0m\u001b[0merr\u001b[0m\u001b[1;33m,\u001b[0m \u001b[0mflag\u001b[0m\u001b[1;33m)\u001b[0m\u001b[1;33m:\u001b[0m\u001b[1;33m\u001b[0m\u001b[1;33m\u001b[0m\u001b[0m\n\u001b[1;32m---> 89\u001b[1;33m     \u001b[1;32mraise\u001b[0m \u001b[0mLinAlgError\u001b[0m\u001b[1;33m(\u001b[0m\u001b[1;34m\"Singular matrix\"\u001b[0m\u001b[1;33m)\u001b[0m\u001b[1;33m\u001b[0m\u001b[1;33m\u001b[0m\u001b[0m\n\u001b[0m\u001b[0;32m     90\u001b[0m \u001b[1;33m\u001b[0m\u001b[0m\n\u001b[0;32m     91\u001b[0m \u001b[1;32mdef\u001b[0m \u001b[0m_raise_linalgerror_nonposdef\u001b[0m\u001b[1;33m(\u001b[0m\u001b[0merr\u001b[0m\u001b[1;33m,\u001b[0m \u001b[0mflag\u001b[0m\u001b[1;33m)\u001b[0m\u001b[1;33m:\u001b[0m\u001b[1;33m\u001b[0m\u001b[1;33m\u001b[0m\u001b[0m\n",
      "\u001b[1;31mLinAlgError\u001b[0m: Singular matrix"
     ]
    }
   ],
   "source": [
    "#for i in range (0,100):\n",
    "while inside:\n",
    "#if inside:\n",
    "    e = end_eff_pos(t0,t1,te)\n",
    "    \n",
    "    \n",
    "    # End effector values for small change in respective theta values\n",
    "    e_t0 = end_eff_pos(t0_1,t1,te)\n",
    "    e_t1 = end_eff_pos(t0,t1_1,te)\n",
    "    e_te = end_eff_pos(t0,t1,te_1)\n",
    "    \n",
    "    e_del_t0 = np.subtract(e,e_t0)\n",
    "    e_del_t1 = np.subtract(e,e_t1)\n",
    "    e_del_te = np.subtract(e,e_te)\n",
    "    \n",
    "    '''\n",
    "    print('end eff vals')\n",
    "    print(e)\n",
    "    print(e_t0)\n",
    "    print(e_t1)\n",
    "    print(e_te)\n",
    "       \n",
    "    print('theta vals')\n",
    "    print(t0)\n",
    "    print(t1)\n",
    "    print(te)\n",
    "    \n",
    "    print('e delvals')\n",
    "    print(e_del_t0)\n",
    "    print(e_del_t1)\n",
    "    print(e_del_te)\n",
    "    '''\n",
    "        \n",
    "    J = np.matrix([[np.squeeze(np.asarray(e_del_t0[0][0])) , np.squeeze(np.asarray(e_del_t1[0][0])) , np.squeeze(np.asarray(e_del_te[0][0]))],\\\n",
    "                   [np.squeeze(np.asarray(e_del_t0[1][0])) , np.squeeze(np.asarray(e_del_t1[1][0])) , np.squeeze(np.asarray(e_del_te[1][0]))],\\\n",
    "                   [np.squeeze(np.asarray(e_del_t0[2][0])) , np.squeeze(np.asarray(e_del_t1[2][0])) , np.squeeze(np.asarray(e_del_te[2][0]))],])\n",
    "    \n",
    "    print(J)\n",
    "\n",
    "    \n",
    "    J_inv = np.linalg.inv(J)\n",
    "    \n",
    "    #print(J_inv)\n",
    "    \n",
    "    \n",
    "    \n",
    "    \n",
    "    # Finding new End effector position\n",
    "    \n",
    "    sign_x = sign((np.squeeze(np.asarray(e_des[0][0]))) , np.squeeze(np.asarray(e[0][0])))\n",
    "    sign_y = sign((np.squeeze(np.asarray(e_des[1][0]))) , np.squeeze(np.asarray(e[1][0])))\n",
    "    sign_phi = sign((np.squeeze(np.asarray(e_des[2][0]))) , np.squeeze(np.asarray(e[2][0])))\n",
    "    \n",
    "    # p is set distance\n",
    "    x_p = np.squeeze(np.asarray(e[0][0])) + p*sign_x\n",
    "    y_p = np.squeeze(np.asarray(e[1][0])) + p*sign_y\n",
    "    phi_p = np.squeeze(np.asarray(e[2][0])) + p*sign_phi\n",
    "    '''\n",
    "    sub_x = np.subtract((np.squeeze(np.asarray(e_des[0][0]))) , np.squeeze(np.asarray(e[0][0])))\n",
    "    sub_y = np.subtract((np.squeeze(np.asarray(e_des[1][0]))) , np.squeeze(np.asarray(e[1][0])))\n",
    "    sub_phi = np.subtract((np.squeeze(np.asarray(e_des[2][0]))) , np.squeeze(np.asarray(e[2][0])))\n",
    "    \n",
    "    p=0.01\n",
    "    x_p = np.squeeze(np.asarray(e[0][0])) + p*sub_x\n",
    "    y_p = np.squeeze(np.asarray(e[1][0])) + p*sub_y\n",
    "    phi_p = np.squeeze(np.asarray(e[2][0])) + p*sub_phi\n",
    "    '''\n",
    "    e_del_x = np.squeeze(np.asarray(e[0][0])) - x_p\n",
    "    e_del_y = np.squeeze(np.asarray(e[1][0])) - y_p\n",
    "    e_del_phi = np.squeeze(np.asarray(e[2][0])) - phi_p\n",
    "    \n",
    "    #  e_del_norm = np.dot([[e_del_x],[e_del_y],[e_del_phi]],0.01)\n",
    "    \n",
    "    e_del_norm = np.matrix([[e_del_x],[e_del_y],[e_del_phi]])\n",
    "    \n",
    "    #print(e_del_norm)\n",
    "    \n",
    "    t_del = np.dot(J_inv,e_del_norm)\n",
    "    \n",
    "    #print()    \n",
    "    #print(t_del)\n",
    "    t_del0 = np.squeeze(np.asarray(t_del[0][0]))\n",
    "    t_del1 = np.squeeze(np.asarray(t_del[1][0]))\n",
    "    t_dele = np.squeeze(np.asarray(t_del[2][0]))\n",
    "    \n",
    "    t_new = np.add([[t0],[t1],[te]],t_del)\n",
    "    \n",
    "    t0 = np.squeeze(np.asarray(t_new[0][0]))\n",
    "    t1 = np.squeeze(np.asarray(t_new[1][0]))\n",
    "    te = np.squeeze(np.asarray(t_new[2][0]))\n",
    "    \n",
    "    \n",
    "    t0_0 = t0 + dT0\n",
    "    t0_1 = t1 + dT0\n",
    "    t0_e = te + dT0\n",
    "    \n",
    "    '''\n",
    "    print('New vals')\n",
    "    print(x_p)\n",
    "    print(y_p)\n",
    "    print(phi_p)\n",
    "    print(t_new)\n",
    "    \n",
    "    print('----------------------')\n",
    "    '''\n",
    "    \n",
    "    met = np.sqrt(((np.squeeze(np.asarray(e[0][0])))-(np.squeeze(np.asarray(e_des[0][0]))))**2 +\\\n",
    "                  ((np.squeeze(np.asarray(e[1][0])))-(np.squeeze(np.asarray(e_des[1][0]))))**2)\n",
    "    \n",
    "    # Plot \n",
    "    plt.plot(0,0,'ko')\n",
    "    plt.plot(np.squeeze(np.asarray(ini_pos[0][0])), np.squeeze(np.asarray(ini_pos[1][0])), 'yo')    \n",
    "    plt.plot(np.squeeze(np.asarray(e[0][0])), np.squeeze(np.asarray(e[1][0])), 'r>')\n",
    "    #plt.plot(np.squeeze(np.asarray(x_p)), np.squeeze(np.asarray(y_p)), 'k>')\n",
    "    plt.plot(np.squeeze(np.asarray(e_des[0][0])), np.squeeze(np.asarray(e_des[1][0])), 'bo')\n",
    "    plt.show\n",
    "    \n",
    "    if met < 0.3 : inside = False\n",
    "    \n"
   ]
  },
  {
   "cell_type": "code",
   "execution_count": null,
   "metadata": {},
   "outputs": [],
   "source": []
  },
  {
   "cell_type": "code",
   "execution_count": 28,
   "metadata": {},
   "outputs": [
    {
     "data": {
      "text/plain": [
       "matrix([[-7.8835668 ],\n",
       "        [-4.31395665],\n",
       "        [ 1.54199219]])"
      ]
     },
     "execution_count": 28,
     "metadata": {},
     "output_type": "execute_result"
    }
   ],
   "source": [
    "e = end_eff_pos(t0,t1,te)\n",
    "e"
   ]
  },
  {
   "cell_type": "code",
   "execution_count": 636,
   "metadata": {},
   "outputs": [
    {
     "data": {
      "image/png": "[encoded data removed]",
      "text/plain": [
       "<Figure size 432x288 with 1 Axes>"
      ]
     },
     "metadata": {
      "needs_background": "light"
     },
     "output_type": "display_data"
    }
   ],
   "source": [
    "while inside:\n",
    "    \n",
    "    sign_x = sign((np.squeeze(np.asarray(e_des[0][0]))) , np.squeeze(np.asarray(e[0][0])))\n",
    "    sign_y = sign((np.squeeze(np.asarray(e_des[1][0]))) , np.squeeze(np.asarray(e[1][0])))\n",
    "    sign_phi = sign((np.squeeze(np.asarray(e_des[2][0]))) , np.squeeze(np.asarray(e[2][0])))\n",
    "    \n",
    "    # p is set distance\n",
    "    x_p = np.squeeze(np.asarray(e[0][0])) + p*sign_x\n",
    "    y_p = np.squeeze(np.asarray(e[1][0])) + p*sign_y\n",
    "    phi_p = np.squeeze(np.asarray(e[2][0])) + p*sign_phi\n",
    "    \n",
    "    e[0][0] = x_p\n",
    "    e[1][0] = y_p\n",
    "    \n",
    "    plt.plot(0,0,'ko')\n",
    "    plt.plot(np.squeeze(np.asarray(ini_pos[0][0])), np.squeeze(np.asarray(ini_pos[1][0])), 'yo')    \n",
    "    plt.plot(np.squeeze(np.asarray(e[0][0])), np.squeeze(np.asarray(e[1][0])), 'r>')\n",
    "    #plt.plot(np.squeeze(np.asarray(x_p)), np.squeeze(np.asarray(y_p)), 'k>')\n",
    "    plt.plot(np.squeeze(np.asarray(e_des[0][0])), np.squeeze(np.asarray(e_des[1][0])), 'bo')\n",
    "    plt.show\n",
    "    \n",
    "    \n",
    "    met = np.sqrt(((np.squeeze(np.asarray(e[0][0])))-(np.squeeze(np.asarray(e_des[0][0]))))**2 +\\\n",
    "                  ((np.squeeze(np.asarray(e[1][0])))-(np.squeeze(np.asarray(e_des[1][0]))))**2)\n",
    "    \n",
    "    \n",
    "    if met < 0.3 : inside = False\n",
    "    "
   ]
  },
  {
   "cell_type": "code",
   "execution_count": 641,
   "metadata": {},
   "outputs": [
    {
     "data": {
      "image/png": "[encoded data removed]",
      "text/plain": [
       "<Figure size 432x288 with 1 Axes>"
      ]
     },
     "metadata": {
      "needs_background": "light"
     },
     "output_type": "display_data"
    }
   ],
   "source": [
    "while inside:\n",
    "    \n",
    "    sub_x = np.subtract((np.squeeze(np.asarray(e_des[0][0]))) , np.squeeze(np.asarray(e[0][0])))\n",
    "    sub_y = np.subtract((np.squeeze(np.asarray(e_des[1][0]))) , np.squeeze(np.asarray(e[1][0])))\n",
    "    sub_phi = np.subtract((np.squeeze(np.asarray(e_des[2][0]))) , np.squeeze(np.asarray(e[2][0])))\n",
    "    \n",
    "    p=0.01\n",
    "    x_p = np.squeeze(np.asarray(e[0][0])) + p*sub_x\n",
    "    y_p = np.squeeze(np.asarray(e[1][0])) + p*sub_y\n",
    "    phi_p = np.squeeze(np.asarray(e[2][0])) + p*sub_phi\n",
    "    \n",
    "    e[0][0] = x_p\n",
    "    e[1][0] = y_p\n",
    "    \n",
    "    plt.plot(0,0,'ko')\n",
    "    plt.plot(np.squeeze(np.asarray(ini_pos[0][0])), np.squeeze(np.asarray(ini_pos[1][0])), 'yo')    \n",
    "    plt.plot(np.squeeze(np.asarray(e[0][0])), np.squeeze(np.asarray(e[1][0])), 'r>')\n",
    "    plt.plot(np.squeeze(np.asarray(x_p)), np.squeeze(np.asarray(y_p)), 'k>')\n",
    "    plt.plot(np.squeeze(np.asarray(e_des[0][0])), np.squeeze(np.asarray(e_des[1][0])), 'bo')\n",
    "    plt.show\n",
    "    \n",
    "    \n",
    "    met = np.sqrt(((np.squeeze(np.asarray(e[0][0])))-(np.squeeze(np.asarray(e_des[0][0]))))**2 +\\\n",
    "                  ((np.squeeze(np.asarray(e[1][0])))-(np.squeeze(np.asarray(e_des[1][0]))))**2)\n",
    "    \n",
    "    \n",
    "    if met < 0.3 : inside = False\n",
    "    "
   ]
  },
  {
   "cell_type": "code",
   "execution_count": 648,
   "metadata": {},
   "outputs": [
    {
     "data": {
      "image/png": "[encoded data removed]",
      "text/plain": [
       "<Figure size 432x288 with 1 Axes>"
      ]
     },
     "metadata": {
      "needs_background": "light"
     },
     "output_type": "display_data"
    }
   ],
   "source": [
    "import numpy as np\n",
    "import matplotlib.pyplot as plt\n",
    "\n",
    "x, y = np.random.random(size=(2,1))\n",
    "\n",
    "for i in range(0, len(x), 2):\n",
    "    plt.plot(x[i:i+2], y[i:i+2], 'ro-')\n",
    "\n",
    "plt.show()"
   ]
  },
  {
   "cell_type": "code",
   "execution_count": null,
   "metadata": {},
   "outputs": [],
   "source": []
  }
 ],
 "metadata": {
  "kernelspec": {
   "display_name": "Python 3",
   "language": "python",
   "name": "python3"
  },
  "language_info": {
   "codemirror_mode": {
    "name": "ipython",
    "version": 3
   },
   "file_extension": ".py",
   "mimetype": "text/x-python",
   "name": "python",
   "nbconvert_exporter": "python",
   "pygments_lexer": "ipython3",
   "version": "3.7.1"
  }
 },
 "nbformat": 4,
 "nbformat_minor": 2
}
