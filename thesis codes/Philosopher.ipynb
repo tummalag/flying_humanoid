{
 "cells": [
  {
   "cell_type": "code",
   "execution_count": 4,
   "metadata": {},
   "outputs": [],
   "source": [
    "import threading\n",
    "import random\n",
    "import time\n",
    "class Philosopher(threading.Thread):\n",
    " \n",
    "    running = True\n",
    " \n",
    "    def __init__(self, name, forkOnLeft, forkOnRight):\n",
    "        threading.Thread.__init__(self)\n",
    "        self.name = name\n",
    "        self.forkOnLeft = forkOnLeft\n",
    "        self.forkOnRight = forkOnRight\n",
    " \n",
    "    def run(self):\n",
    "        while(self.running):\n",
    "            #  Philosopher is thinking (but really is sleeping).\n",
    "            time.sleep( random.uniform(0,2))\n",
    "            print ('%s is hungry.' % self.name)\n",
    "            self.dine()\n",
    " \n",
    "    def dine(self):\n",
    "        fork1, fork2 = self.forkOnLeft, self.forkOnRight\n",
    " \n",
    "        while self.running:\n",
    "            fork1.acquire(True)\n",
    "            locked = fork2.acquire(False)\n",
    "            if locked: break\n",
    "            fork1.release()\n",
    "            print ('%s swaps forks' % self.name)\n",
    "            fork1, fork2 = fork2, fork1\n",
    "        else:\n",
    "            return\n",
    " \n",
    "        self.dining()\n",
    "        fork2.release()\n",
    "        fork1.release()\n",
    "        \n",
    "    def dining(self):\n",
    "        print ('%s starts eating '% self.name)\n",
    "        time.sleep(random.uniform(1,10))\n",
    "        print ('%s finishes eating and leaves to think.' % self.name)\n",
    "        a = kjhdgdsflj\n",
    "        f'{a}'.format()\n",
    " \n"
   ]
  },
  {
   "cell_type": "code",
   "execution_count": 5,
   "metadata": {},
   "outputs": [],
   "source": [
    "def DiningPhilosophers():\n",
    "    forks = [threading.Lock() for n in range(5)]\n",
    "    philosopherNames = ('Aristotle','Buddha','Kant','Marx', 'Russel')\n",
    " \n",
    "    philosophers= [Philosopher(philosopherNames[i], forks[i%5], forks[(i+1)%5]) \\\n",
    "            for i in range(5)]\n",
    " \n",
    "    #random.seed(507129)\n",
    "    Philosopher.running = True\n",
    "    for p in philosophers: p.start()\n",
    "    \n",
    "    time.sleep(100)\n",
    "    Philosopher.running = False\n",
    "    print (\"Now we're finishing.\")"
   ]
  },
  {
   "cell_type": "code",
   "execution_count": 6,
   "metadata": {},
   "outputs": [
    {
     "name": "stdout",
     "output_type": "stream",
     "text": [
      "Buddha is hungry.\n",
      "Buddha starts eating \n",
      "Marx is hungry.\n",
      "Marx starts eating \n",
      "Aristotle is hungry.\n",
      "Aristotle swaps forks\n",
      "Russel is hungry.\n",
      "Kant is hungry.\n",
      "Marx finishes eating and leaves to think.\n"
     ]
    },
    {
     "name": "stderr",
     "output_type": "stream",
     "text": [
      "Exception in thread Marx:\n",
      "Traceback (most recent call last):\n",
      "  File \"C:\\Users\\gowth\\Anaconda3\\lib\\threading.py\", line 917, in _bootstrap_inner\n",
      "    self.run()\n",
      "  File \"<ipython-input-4-92894de5ec2f>\", line 19, in run\n",
      "    self.dine()\n",
      "  File \"<ipython-input-4-92894de5ec2f>\", line 34, in dine\n",
      "    self.dining()\n",
      "  File \"<ipython-input-4-92894de5ec2f>\", line 42, in dining\n",
      "    a = kjhdgdsflj\n",
      "NameError: name 'kjhdgdsflj' is not defined\n",
      "\n"
     ]
    },
    {
     "name": "stdout",
     "output_type": "stream",
     "text": [
      "Buddha finishes eating and leaves to think.\n"
     ]
    },
    {
     "name": "stderr",
     "output_type": "stream",
     "text": [
      "Exception in thread Buddha:\n",
      "Traceback (most recent call last):\n",
      "  File \"C:\\Users\\gowth\\Anaconda3\\lib\\threading.py\", line 917, in _bootstrap_inner\n",
      "    self.run()\n",
      "  File \"<ipython-input-4-92894de5ec2f>\", line 19, in run\n",
      "    self.dine()\n",
      "  File \"<ipython-input-4-92894de5ec2f>\", line 34, in dine\n",
      "    self.dining()\n",
      "  File \"<ipython-input-4-92894de5ec2f>\", line 42, in dining\n",
      "    a = kjhdgdsflj\n",
      "NameError: name 'kjhdgdsflj' is not defined\n",
      "\n"
     ]
    },
    {
     "name": "stdout",
     "output_type": "stream",
     "text": [
      "Now we're finishing.\n"
     ]
    }
   ],
   "source": [
    "DiningPhilosophers()"
   ]
  },
  {
   "cell_type": "code",
   "execution_count": null,
   "metadata": {},
   "outputs": [],
   "source": []
  }
 ],
 "metadata": {
  "kernelspec": {
   "display_name": "Python 3",
   "language": "python",
   "name": "python3"
  },
  "language_info": {
   "codemirror_mode": {
    "name": "ipython",
    "version": 3
   },
   "file_extension": ".py",
   "mimetype": "text/x-python",
   "name": "python",
   "nbconvert_exporter": "python",
   "pygments_lexer": "ipython3",
   "version": "3.7.1"
  }
 },
 "nbformat": 4,
 "nbformat_minor": 2
}
