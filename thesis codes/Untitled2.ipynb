{
 "cells": [
  {
   "cell_type": "code",
   "execution_count": null,
   "metadata": {},
   "outputs": [],
   "source": [
    "import numpy as np\n",
    "import matplotlib.pyplot as plt\n"
   ]
  },
  {
   "cell_type": "code",
   "execution_count": null,
   "metadata": {},
   "outputs": [],
   "source": [
    "# Initialising values here\n",
    "# Theta Values in degree\n",
    "\n",
    "t0 = 0\n",
    "t1 = 45\n",
    "t2 = 0\n",
    "\n",
    "# Theta Values in radians\n",
    "\n",
    "t0 = t0/180*np.pi\n",
    "t1 = t1/180*np.pi\n",
    "t2 = t2/180*np.pi\n",
    "\n",
    "# Translational Elementsin inches\n",
    "\n",
    "a0 = 6\n",
    "a1 = 5\n",
    "d2 = 5\n",
    "\n",
    "# del theta change in angles\n",
    "\n",
    "dT0 = 0.01\n",
    "dT1 = 0.05\n",
    "\n",
    "t0_1 = t0 + dT0\n",
    "t1_1 = t1 + dT0\n",
    "t2_1 = t2 + dT0\n",
    "# Desired values\n",
    "\n",
    "# Traslation vectors x,y,z are\n",
    "e_des = np.matrix([[6],[5]])\n",
    "\n",
    "inside = True\n"
   ]
  },
  {
   "cell_type": "code",
   "execution_count": null,
   "metadata": {},
   "outputs": [],
   "source": [
    "def end_eff_pos(t0,t1,t2):\n",
    "    # Parameter table with columns \" theta, alpha, r or a, d \n",
    "    \n",
    "    param_tab = [[t0 ,      0         ,  a0  ,  0  ],\n",
    "                 [t1 , -(90/180*np.pi),  a1  ,  0  ],\n",
    "                 [t2 ,      0         ,  0   ,  d2 ]]\n",
    "    \n",
    "    # Transformation matrix\n",
    "\n",
    "    i=0\n",
    "    T0_1 = [[np.cos(param_tab[i][0]) , -np.cos(param_tab[i][1])*np.sin(param_tab[i][0]) , np.sin(param_tab[i][1])*np.sin(param_tab[i][0]) , param_tab[i][2]*np.cos(param_tab[i][0])],\n",
    "            [np.sin(param_tab[i][0]) , np.cos(param_tab[i][1])*np.cos(param_tab[i][0]) , -np.sin(param_tab[i][1])*np.cos(param_tab[i][0]) , param_tab[i][2]*np.sin(param_tab[i][0])],\n",
    "            [           0            ,            np.sin(param_tab[i][1])              ,       np.cos(param_tab[i][1])                    ,     param_tab[i][3]                    ],\n",
    "            [0  ,  0  ,  0  ,  1 ]]\n",
    "\n",
    "    i=1\n",
    "    T1_2 = [[np.cos(param_tab[i][0]) , -np.cos(param_tab[i][1])*np.sin(param_tab[i][0]) , np.sin(param_tab[i][1])*np.sin(param_tab[i][0]) , param_tab[i][2]*np.cos(param_tab[i][0])],\n",
    "            [np.sin(param_tab[i][0]) , np.cos(param_tab[i][1])*np.cos(param_tab[i][0]) , -np.sin(param_tab[i][1])*np.cos(param_tab[i][0]) , param_tab[i][2]*np.sin(param_tab[i][0])],\n",
    "            [           0            ,            np.sin(param_tab[i][1])              ,       np.cos(param_tab[i][1])                    ,     param_tab[i][3]                    ],\n",
    "            [0  ,  0  ,  0  ,  1 ]]\n",
    "\n",
    "    i=2\n",
    "    T2_3 = [[np.cos(param_tab[i][0]) , -np.cos(param_tab[i][1])*np.sin(param_tab[i][0]) , np.sin(param_tab[i][1])*np.sin(param_tab[i][0]) , param_tab[i][2]*np.cos(param_tab[i][0])],\n",
    "            [np.sin(param_tab[i][0]) , np.cos(param_tab[i][1])*np.cos(param_tab[i][0]) , -np.sin(param_tab[i][1])*np.cos(param_tab[i][0]) , param_tab[i][2]*np.sin(param_tab[i][0])],\n",
    "            [           0            ,            np.sin(param_tab[i][1])              ,       np.cos(param_tab[i][1])                    ,     param_tab[i][3]                    ],\n",
    "            [0  ,  0  ,  0  ,  1 ]]\n",
    "    \n",
    "    \n",
    "    # \n",
    "    # Finding T0_3 matrix\n",
    "\n",
    "    T0_2 = np.dot(T0_1,T1_2)\n",
    "    T0_3 = np.dot(T0_2,T2_3)\n",
    "    \n",
    "    O0_1 = np.matrix(T0_1)[0:3,3]\n",
    "    O0_2 = np.matrix(T0_2)[0:3,3]\n",
    "    \n",
    "    plt.plot(np.squeeze(np.asarray(O0_1[0][0])), np.squeeze(np.asarray(O0_1[1][0])), 'go')\n",
    "    plt.plot(np.squeeze(np.asarray(O0_2[0][0])), np.squeeze(np.asarray(O0_2[1][0])), 'co')\n",
    "\n",
    "    O0_3 = np.matrix(T0_3)[0:3,3]  # End Effector\n",
    "    \n",
    "    return O0_3    "
   ]
  },
  {
   "cell_type": "code",
   "execution_count": null,
   "metadata": {},
   "outputs": [],
   "source": [
    "def sign(a,b):\n",
    "    return np.sign(np.subtract(a,b))"
   ]
  },
  {
   "cell_type": "code",
   "execution_count": null,
   "metadata": {},
   "outputs": [],
   "source": [
    "def sudo_inv(j):\n",
    "    pass"
   ]
  },
  {
   "cell_type": "code",
   "execution_count": null,
   "metadata": {},
   "outputs": [],
   "source": [
    "ini_pos = end_eff_pos(t0,t1,t2)"
   ]
  },
  {
   "cell_type": "code",
   "execution_count": null,
   "metadata": {},
   "outputs": [],
   "source": [
    "while inside:\n",
    "    e = end_eff_pos(t0,t1,t2)\n",
    "    e_t0 = end_eff_pos(t0_1,t1,t2)\n",
    "    e_t1 = end_eff_pos(t0,t1_1,t2)\n",
    "    \n",
    "    e_del_t0 = np.subtract(e,e_t0)\n",
    "    e_del_t1 = np.subtract(e,e_t1)\n",
    "\n",
    "    j = np.matrix([[np.squeeze(np.asarray(e_del_t0[0][0])) , np.squeeze(np.asarray(e_del_t1[0][0]))],\\\n",
    "                   [np.squeeze(np.asarray(e_del_t0[1][0])) , np.squeeze(np.asarray(e_del_t1[1][0]))]])\n",
    "    \n",
    "    #J = np.dot(j,0.01)\n",
    "    \n",
    "    J_inv = np.linalg.inv(j)\n",
    "    \n",
    "    # Finding new End effector position\n",
    "    \n",
    "    sign_x = sign((np.squeeze(np.asarray(e_des[0][0]))) , np.squeeze(np.asarray(e[0][0])))\n",
    "    sign_y = sign((np.squeeze(np.asarray(e_des[1][0]))) , np.squeeze(np.asarray(e[1][0])))\n",
    "    p = 0.01\n",
    "    x_p = np.squeeze(np.asarray(e[0][0])) + p*sign_x\n",
    "    y_p = np.squeeze(np.asarray(e[1][0])) + p*sign_y\n",
    "    \n",
    "    e_del_x = np.squeeze(np.asarray(e[0][0])) - x_p\n",
    "    e_del_y = np.squeeze(np.asarray(e[1][0])) - y_p\n",
    "    \n",
    "    \n",
    "    #e_del_norm = np.dot([[e_del_x],[e_del_y]],0.001)\n",
    "    \n",
    "    e_del_norm = np.matrix([[e_del_x],[e_del_y]])\n",
    "    \n",
    "    t_del = np.dot(J_inv,e_del_norm)\n",
    "    \n",
    "    t_del0 = np.squeeze(np.asarray(t_del[0][0]))\n",
    "    t_del1 = np.squeeze(np.asarray(t_del[1][0]))\n",
    "    \n",
    "    t_new = np.add([[t0],[t1]],t_del)\n",
    "    \n",
    "    t0 = np.squeeze(np.asarray(t_new[0][0]))\n",
    "    t1 = np.squeeze(np.asarray(t_new[1][0]))\n",
    "       \n",
    "    t0_0 = t0 + dT0\n",
    "    t0_1 = t1 + dT0\n",
    "    \n",
    "    met = np.sqrt(((np.squeeze(np.asarray(e[0][0])))-(np.squeeze(np.asarray(e_des[0][0]))))**2 +\\\n",
    "                  ((np.squeeze(np.asarray(e[1][0])))-(np.squeeze(np.asarray(e_des[1][0]))))**2)\n",
    "    \n",
    "    # Plot \n",
    "    plt.plot(0,0,'ko')\n",
    "    plt.plot(np.squeeze(np.asarray(ini_pos[0][0])), np.squeeze(np.asarray(ini_pos[1][0])), 'yo')    \n",
    "    plt.plot(np.squeeze(np.asarray(e[0][0])), np.squeeze(np.asarray(e[1][0])), 'r>')\n",
    "    plt.plot(np.squeeze(np.asarray(e_des[0][0])), np.squeeze(np.asarray(e_des[1][0])), 'bo')\n",
    "    plt.show\n",
    "    \n",
    "    if met < 0.3 : inside = False\n"
   ]
  },
  {
   "cell_type": "code",
   "execution_count": null,
   "metadata": {},
   "outputs": [],
   "source": [
    "t1"
   ]
  },
  {
   "cell_type": "code",
   "execution_count": null,
   "metadata": {},
   "outputs": [],
   "source": [
    "np.sin(0.01)"
   ]
  },
  {
   "cell_type": "code",
   "execution_count": 38,
   "metadata": {},
   "outputs": [
    {
     "name": "stdout",
     "output_type": "stream",
     "text": [
      "1 2 3 4 5\n"
     ]
    }
   ],
   "source": [
    "\n",
    "name = input().split()\n",
    "\n",
    "temp = map(float,name)"
   ]
  },
  {
   "cell_type": "code",
   "execution_count": 40,
   "metadata": {},
   "outputs": [
    {
     "name": "stdout",
     "output_type": "stream",
     "text": [
      "['1', '2', '3', '4', '5']\n",
      "[]\n"
     ]
    }
   ],
   "source": [
    "print(name)\n",
    "\n",
    "a=[]\n",
    "for i in temp:\n",
    "    a.append(i)\n",
    "    print(i)\n",
    "    \n",
    "print(a)"
   ]
  },
  {
   "cell_type": "code",
   "execution_count": null,
   "metadata": {},
   "outputs": [],
   "source": [
    "import math\n",
    "\n",
    "class Complex(object):\n",
    "    def __init__(self, real, imaginary):\n",
    "        self.real = real\n",
    "        self.imaginary = imaginary\n",
    "        \n",
    "    def __add__(self, no):\n",
    "        return Complex(no.real + self.real , no.imaginary + self.imaginary)\n",
    "               \n",
    "    def __sub__(self, no):\n",
    "        return Complex(-no.real + self.real , -no.imaginary + self.imaginary)\n",
    "        \n",
    "    def __mul__(self, no):\n",
    "        return Complex(no.real * self.real -  no.imaginary * self.imaginary ,\\\n",
    "                        no.real * self.imaginary + self.real * no.imaginary)\n",
    "        \n",
    "    def conj(self):\n",
    "        return Complex(self.real , -self.imaginary)\n",
    "\n",
    "    def __truediv__(self, no):\n",
    "        if no.imaginary ==0:\n",
    "            return Complex(self.real/no.real , self.imaginary/no.real)\n",
    "        else:\n",
    "            return (self*no.conj())/(no*no.conj())\n",
    "\n",
    "    def mod(self):\n",
    "        return Complex(math.pow(math.pow(self.real,2) + math.pow(self.imaginary,2),0.5),0)\n",
    "\n",
    "    def __str__(self):\n",
    "        if self.imaginary == 0:\n",
    "            result = \"%.2f+0.00i\" % (self.real)\n",
    "        elif self.real == 0:\n",
    "            if self.imaginary >= 0:\n",
    "                result = \"0.00+%.2fi\" % (self.imaginary)\n",
    "            else:\n",
    "                result = \"0.00-%.2fi\" % (abs(self.imaginary))\n",
    "        elif self.imaginary > 0:\n",
    "            result = \"%.2f+%.2fi\" % (self.real, self.imaginary)\n",
    "        else:\n",
    "            result = \"%.2f-%.2fi\" % (self.real, abs(self.imaginary))\n",
    "        return result\n",
    "\n",
    "if __name__ == '__main__':"
   ]
  }
 ],
 "metadata": {
  "kernelspec": {
   "display_name": "Python 3",
   "language": "python",
   "name": "python3"
  },
  "language_info": {
   "codemirror_mode": {
    "name": "ipython",
    "version": 3
   },
   "file_extension": ".py",
   "mimetype": "text/x-python",
   "name": "python",
   "nbconvert_exporter": "python",
   "pygments_lexer": "ipython3",
   "version": "3.7.3"
  }
 },
 "nbformat": 4,
 "nbformat_minor": 2
}
