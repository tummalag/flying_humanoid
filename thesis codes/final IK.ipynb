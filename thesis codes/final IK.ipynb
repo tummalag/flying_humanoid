{
 "cells": [
  {
   "cell_type": "code",
   "execution_count": 1,
   "metadata": {},
   "outputs": [],
   "source": [
    "import numpy as np\n",
    "import time\n",
    "import matplotlib.pyplot as plt\n",
    "from numpy import matrix\n",
    "from numpy.linalg import inv\n"
   ]
  },
  {
   "cell_type": "code",
   "execution_count": 22,
   "metadata": {},
   "outputs": [],
   "source": [
    "# Initialization\n",
    "# Angles in degrees\n",
    "t0 = 0\n",
    "t1 = 0\n",
    "t2 = 0\n",
    "\n",
    "# Joint lengths\n",
    "a0 = 2\n",
    "a1 = 7\n",
    "a2 = 1\n",
    "\n",
    "inside = True"
   ]
  },
  {
   "cell_type": "code",
   "execution_count": 23,
   "metadata": {},
   "outputs": [],
   "source": [
    "# Theta Values in radians\n",
    "t0 = t0/180*np.pi\n",
    "t1 = t1/180*np.pi\n",
    "t2 = t2/180*np.pi"
   ]
  },
  {
   "cell_type": "code",
   "execution_count": 24,
   "metadata": {},
   "outputs": [],
   "source": [
    "# Delta values\n",
    "dT0 = 0.0001\n",
    "\n",
    "t0_1 = t0 + dT0\n",
    "t1_1 = t1 + dT0\n",
    "t2_1 = t2 + dT0"
   ]
  },
  {
   "cell_type": "code",
   "execution_count": 25,
   "metadata": {},
   "outputs": [],
   "source": [
    "# Desired Values\n",
    "e_des = np.matrix([[8],[1]])\n"
   ]
  },
  {
   "cell_type": "code",
   "execution_count": 26,
   "metadata": {},
   "outputs": [],
   "source": [
    "class Forward_kinematics():\n",
    "    \n",
    "    def init(self):\n",
    "        self.joint1         = t0\n",
    "        self.joint2         = t1\n",
    "        self.joint3         = t2\n",
    "        self.param_table    = [[],[],[],[]]\n",
    "        self.T0_1           = [[],[],[],[]]\n",
    "        self.T1_2           = [[],[],[],[]]\n",
    "        self.T2_3           = [[],[],[],[]]\n",
    "        self.T0_2           = [[],[],[],[]]\n",
    "        self.T0_3           = [[],[],[],[]]\n",
    "\n",
    "    def param_table(self, joint1, joint2, joint3=0):\n",
    "        # Parameter table with columns \" theta, alpha, r or a, d \n",
    "        self.param_tab  =   [[joint1 ,      0         ,  a0   ,  0  ],\n",
    "                             [joint2 ,      0         ,  a1   ,  0  ],\n",
    "                             [joint3 ,      0         ,  a2   ,  0  ]]\n",
    "    \n",
    "    def first_joint(self):\n",
    "        i=0\n",
    "        self.T0_1 = [[np.cos(self.param_tab[i][0]) , -np.cos(self.param_tab[i][1])*np.sin(self.param_tab[i][0]), np.sin(self.param_tab[i][1])*np.sin(self.param_tab[i][0])  , self.param_tab[i][2]*np.cos(self.param_tab[i][0])],\n",
    "                     [np.sin(self.param_tab[i][0]) , np.cos(self.param_tab[i][1])*np.cos(self.param_tab[i][0]) , -np.sin(self.param_tab[i][1])*np.cos(self.param_tab[i][0]) , self.param_tab[i][2]*np.sin(self.param_tab[i][0])],\n",
    "                     [           0                 ,            np.sin(self.param_tab[i][1])                   ,       np.cos(self.param_tab[i][1])                         ,     self.param_tab[i][3]                         ],\n",
    "                     [0  ,  0  ,  0  ,  1 ]]\n",
    "        return self.T0_1\n",
    "\n",
    "    def second_joint(self):\n",
    "        T0_1 = self.first_joint()\n",
    "        i=1\n",
    "        self.T1_2 = [[np.cos(self.param_tab[i][0]) , -np.cos(self.param_tab[i][1])*np.sin(self.param_tab[i][0]), np.sin(self.param_tab[i][1])*np.sin(self.param_tab[i][0])  , self.param_tab[i][2]*np.cos(self.param_tab[i][0])],\n",
    "                     [np.sin(self.param_tab[i][0]) , np.cos(self.param_tab[i][1])*np.cos(self.param_tab[i][0]) , -np.sin(self.param_tab[i][1])*np.cos(self.param_tab[i][0]) , self.param_tab[i][2]*np.sin(self.param_tab[i][0])],\n",
    "                     [           0                 ,            np.sin(self.param_tab[i][1])                   ,       np.cos(self.param_tab[i][1])                         ,     self.param_tab[i][3]                    ],\n",
    "                     [0  ,  0  ,  0  ,  1 ]]\n",
    "        self.T0_2 = np.dot(self.T0_1,self.T1_2)\n",
    "        return self.T0_2\n",
    "        \n",
    "    def end_effector(self,joint1,joint2,joint3):\n",
    "        self.param_table(joint1,joint2,joint3)\n",
    "        T0_1 = self.first_joint()\n",
    "        T1_2 = self.second_joint()\n",
    "        i=2\n",
    "        self.T2_3 = [[np.cos(self.param_tab[i][0]) , -np.cos(self.param_tab[i][1])*np.sin(self.param_tab[i][0]), np.sin(self.param_tab[i][1])*np.sin(self.param_tab[i][0])  , self.param_tab[i][2]*np.cos(self.param_tab[i][0])],\n",
    "                     [np.sin(self.param_tab[i][0]) , np.cos(self.param_tab[i][1])*np.cos(self.param_tab[i][0]) , -np.sin(self.param_tab[i][1])*np.cos(self.param_tab[i][0]) , self.param_tab[i][2]*np.sin(self.param_tab[i][0])],\n",
    "                     [           0                 ,            np.sin(self.param_tab[i][1])                   ,       np.cos(self.param_tab[i][1])                         ,     self.param_tab[i][3]                    ],\n",
    "                     [0  ,  0  ,  0  ,  1 ]]\n",
    "        self.T0_2 = np.dot(self.T0_1,self.T1_2)\n",
    "        self.T0_3 = np.dot(self.T0_2,self.T2_3)\n",
    "        return self.T0_3\n",
    "        \n",
    "    def transformation_matrix(self):\n",
    "        '''\n",
    "        This method calculates the Transformation Matrix at each joint\n",
    "        and returns end effector Transformation Matrix\n",
    "        '''\n",
    "\n",
    "        # Transformation matrix\n",
    "        i=0\n",
    "        self.T0_1 = [[np.cos(self.param_tab[i][0]) , -np.cos(self.param_tab[i][1])*np.sin(self.param_tab[i][0]), np.sin(self.param_tab[i][1])*np.sin(self.param_tab[i][0])  , self.param_tab[i][2]*np.cos(self.param_tab[i][0])],\n",
    "                     [np.sin(self.param_tab[i][0]) , np.cos(self.param_tab[i][1])*np.cos(self.param_tab[i][0]) , -np.sin(self.param_tab[i][1])*np.cos(self.param_tab[i][0]) , self.param_tab[i][2]*np.sin(self.param_tab[i][0])],\n",
    "                     [           0                 ,            np.sin(self.param_tab[i][1])                   ,       np.cos(self.param_tab[i][1])                         ,     self.param_tab[i][3]                    ],\n",
    "                     [0  ,  0  ,  0  ,  1 ]]\n",
    "        i=1\n",
    "        self.T1_2 = [[np.cos(self.param_tab[i][0]) , -np.cos(self.param_tab[i][1])*np.sin(self.param_tab[i][0]), np.sin(self.param_tab[i][1])*np.sin(self.param_tab[i][0])  , self.param_tab[i][2]*np.cos(self.param_tab[i][0])],\n",
    "                     [np.sin(self.param_tab[i][0]) , np.cos(self.param_tab[i][1])*np.cos(self.param_tab[i][0]) , -np.sin(self.param_tab[i][1])*np.cos(self.param_tab[i][0]) , self.param_tab[i][2]*np.sin(self.param_tab[i][0])],\n",
    "                     [           0                 ,            np.sin(self.param_tab[i][1])                   ,       np.cos(self.param_tab[i][1])                         ,     self.param_tab[i][3]                    ],\n",
    "                     [0  ,  0  ,  0  ,  1 ]]\n",
    "\n",
    "        i=2\n",
    "        self.T2_3 = [[np.cos(self.param_tab[i][0]) , -np.cos(self.param_tab[i][1])*np.sin(self.param_tab[i][0]), np.sin(self.param_tab[i][1])*np.sin(self.param_tab[i][0])  , self.param_tab[i][2]*np.cos(self.param_tab[i][0])],\n",
    "                     [np.sin(self.param_tab[i][0]) , np.cos(self.param_tab[i][1])*np.cos(self.param_tab[i][0]) , -np.sin(self.param_tab[i][1])*np.cos(self.param_tab[i][0]) , self.param_tab[i][2]*np.sin(self.param_tab[i][0])],\n",
    "                     [           0                 ,            np.sin(self.param_tab[i][1])                   ,       np.cos(self.param_tab[i][1])                         ,     self.param_tab[i][3]                    ],\n",
    "                     [0  ,  0  ,  0  ,  1 ]]\n",
    "\n",
    "        # Finding T0_3 matrix\n",
    "        self.T0_2 = np.dot(self.T0_1,self.T1_2)\n",
    "        self.T0_3 = np.dot(self.T0_2,self.T2_3) \n",
    "\n",
    "        return self.T0_3\n",
    "\n",
    "    def position(self, tran_mat):\n",
    "        '''\n",
    "        This method prints the position of the end effector\n",
    "        '''\n",
    "        # Traslation vectors x,y,z are\n",
    "        p_x = tran_mat[0][3]\n",
    "        p_y = tran_mat[1][3]\n",
    "        p_z = tran_mat[2][3]\n",
    "\n",
    "        print(\" X : \",p_x)\n",
    "        print(\" Y : \",p_y)\n",
    "        print(\" Z : \",p_z)\n",
    "\n",
    "    def orientation(self, tran_mat):\n",
    "        '''\n",
    "        This method prints the orientation of the end effector\n",
    "        '''\n",
    "        #  Yaw-Pitch-Roll orientation\n",
    "        #  phi - theta - psi\n",
    "        theta = np.arcsin(tran_mat[2][0])\n",
    "        psi = np.arccos((tran_mat[2][2])/np.cos(theta))\n",
    "        phi = np.arccos((tran_mat[0][0])/np.cos(theta))\n",
    "\n",
    "        print(\" theta : \",theta*180/np.pi)\n",
    "        print(\" psi   : \",psi*180/np.pi)\n",
    "        print(\" phi   : \",phi*180/np.pi)\n",
    "\n"
   ]
  },
  {
   "cell_type": "code",
   "execution_count": 27,
   "metadata": {},
   "outputs": [],
   "source": [
    "def sign(a,b):\n",
    "    return np.sign(np.subtract(a,b))\n"
   ]
  },
  {
   "cell_type": "code",
   "execution_count": 28,
   "metadata": {},
   "outputs": [
    {
     "data": {
      "text/plain": [
       "matrix([[1., 0., 0., 9.],\n",
       "        [0., 1., 0., 0.],\n",
       "        [0., 0., 1., 0.],\n",
       "        [0., 0., 0., 1.]])"
      ]
     },
     "execution_count": 28,
     "metadata": {},
     "output_type": "execute_result"
    }
   ],
   "source": [
    "fk = Forward_kinematics()\n",
    "fk.param_table(t0,t1,t2)\n",
    "f = np.matrix(fk.second_joint())\n",
    "f\n"
   ]
  },
  {
   "cell_type": "code",
   "execution_count": 29,
   "metadata": {},
   "outputs": [
    {
     "ename": "KeyboardInterrupt",
     "evalue": "",
     "output_type": "error",
     "traceback": [
      "\u001b[1;31m---------------------------------------------------------------------------\u001b[0m",
      "\u001b[1;31mKeyboardInterrupt\u001b[0m                         Traceback (most recent call last)",
      "\u001b[1;32m<ipython-input-29-4c9848d53b89>\u001b[0m in \u001b[0;36m<module>\u001b[1;34m\u001b[0m\n\u001b[0;32m     54\u001b[0m     \u001b[1;31m#plt.plot(np.squeeze(np.asarray(ini_pos[0][0])), np.squeeze(np.asarray(ini_pos[1][0])), 'yo')\u001b[0m\u001b[1;33m\u001b[0m\u001b[1;33m\u001b[0m\u001b[1;33m\u001b[0m\u001b[0m\n\u001b[0;32m     55\u001b[0m     \u001b[0mplt\u001b[0m\u001b[1;33m.\u001b[0m\u001b[0mplot\u001b[0m\u001b[1;33m(\u001b[0m\u001b[0me\u001b[0m\u001b[1;33m[\u001b[0m\u001b[1;36m0\u001b[0m\u001b[1;33m]\u001b[0m\u001b[1;33m[\u001b[0m\u001b[1;36m0\u001b[0m\u001b[1;33m]\u001b[0m\u001b[1;33m,\u001b[0m \u001b[0me\u001b[0m\u001b[1;33m[\u001b[0m\u001b[1;36m1\u001b[0m\u001b[1;33m]\u001b[0m\u001b[1;33m[\u001b[0m\u001b[1;36m0\u001b[0m\u001b[1;33m]\u001b[0m\u001b[1;33m,\u001b[0m \u001b[1;34m'r>'\u001b[0m\u001b[1;33m)\u001b[0m\u001b[1;33m\u001b[0m\u001b[1;33m\u001b[0m\u001b[0m\n\u001b[1;32m---> 56\u001b[1;33m     \u001b[0mplt\u001b[0m\u001b[1;33m.\u001b[0m\u001b[0mplot\u001b[0m\u001b[1;33m(\u001b[0m\u001b[0me_des\u001b[0m\u001b[1;33m[\u001b[0m\u001b[1;36m0\u001b[0m\u001b[1;33m]\u001b[0m\u001b[1;33m[\u001b[0m\u001b[1;36m0\u001b[0m\u001b[1;33m]\u001b[0m\u001b[1;33m,\u001b[0m \u001b[0me_des\u001b[0m\u001b[1;33m[\u001b[0m\u001b[1;36m1\u001b[0m\u001b[1;33m]\u001b[0m\u001b[1;33m[\u001b[0m\u001b[1;36m0\u001b[0m\u001b[1;33m]\u001b[0m\u001b[1;33m,\u001b[0m \u001b[1;34m'bo'\u001b[0m\u001b[1;33m)\u001b[0m\u001b[1;33m\u001b[0m\u001b[1;33m\u001b[0m\u001b[0m\n\u001b[0m\u001b[0;32m     57\u001b[0m     \u001b[0mplt\u001b[0m\u001b[1;33m.\u001b[0m\u001b[0mshow\u001b[0m\u001b[1;33m\u001b[0m\u001b[1;33m\u001b[0m\u001b[0m\n\u001b[0;32m     58\u001b[0m \u001b[1;33m\u001b[0m\u001b[0m\n",
      "\u001b[1;32m~\\Anaconda3\\lib\\site-packages\\matplotlib\\pyplot.py\u001b[0m in \u001b[0;36mplot\u001b[1;34m(scalex, scaley, data, *args, **kwargs)\u001b[0m\n\u001b[0;32m   2809\u001b[0m     return gca().plot(\n\u001b[0;32m   2810\u001b[0m         *args, scalex=scalex, scaley=scaley, **({\"data\": data} if data\n\u001b[1;32m-> 2811\u001b[1;33m         is not None else {}), **kwargs)\n\u001b[0m\u001b[0;32m   2812\u001b[0m \u001b[1;33m\u001b[0m\u001b[0m\n\u001b[0;32m   2813\u001b[0m \u001b[1;33m\u001b[0m\u001b[0m\n",
      "\u001b[1;32m~\\Anaconda3\\lib\\site-packages\\matplotlib\\__init__.py\u001b[0m in \u001b[0;36minner\u001b[1;34m(ax, data, *args, **kwargs)\u001b[0m\n\u001b[0;32m   1808\u001b[0m                         \u001b[1;34m\"the Matplotlib list!)\"\u001b[0m \u001b[1;33m%\u001b[0m \u001b[1;33m(\u001b[0m\u001b[0mlabel_namer\u001b[0m\u001b[1;33m,\u001b[0m \u001b[0mfunc\u001b[0m\u001b[1;33m.\u001b[0m\u001b[0m__name__\u001b[0m\u001b[1;33m)\u001b[0m\u001b[1;33m,\u001b[0m\u001b[1;33m\u001b[0m\u001b[1;33m\u001b[0m\u001b[0m\n\u001b[0;32m   1809\u001b[0m                         RuntimeWarning, stacklevel=2)\n\u001b[1;32m-> 1810\u001b[1;33m             \u001b[1;32mreturn\u001b[0m \u001b[0mfunc\u001b[0m\u001b[1;33m(\u001b[0m\u001b[0max\u001b[0m\u001b[1;33m,\u001b[0m \u001b[1;33m*\u001b[0m\u001b[0margs\u001b[0m\u001b[1;33m,\u001b[0m \u001b[1;33m**\u001b[0m\u001b[0mkwargs\u001b[0m\u001b[1;33m)\u001b[0m\u001b[1;33m\u001b[0m\u001b[1;33m\u001b[0m\u001b[0m\n\u001b[0m\u001b[0;32m   1811\u001b[0m \u001b[1;33m\u001b[0m\u001b[0m\n\u001b[0;32m   1812\u001b[0m         inner.__doc__ = _add_data_doc(inner.__doc__,\n",
      "\u001b[1;32m~\\Anaconda3\\lib\\site-packages\\matplotlib\\axes\\_axes.py\u001b[0m in \u001b[0;36mplot\u001b[1;34m(self, scalex, scaley, *args, **kwargs)\u001b[0m\n\u001b[0;32m   1609\u001b[0m         \u001b[0mkwargs\u001b[0m \u001b[1;33m=\u001b[0m \u001b[0mcbook\u001b[0m\u001b[1;33m.\u001b[0m\u001b[0mnormalize_kwargs\u001b[0m\u001b[1;33m(\u001b[0m\u001b[0mkwargs\u001b[0m\u001b[1;33m,\u001b[0m \u001b[0mmlines\u001b[0m\u001b[1;33m.\u001b[0m\u001b[0mLine2D\u001b[0m\u001b[1;33m.\u001b[0m\u001b[0m_alias_map\u001b[0m\u001b[1;33m)\u001b[0m\u001b[1;33m\u001b[0m\u001b[1;33m\u001b[0m\u001b[0m\n\u001b[0;32m   1610\u001b[0m \u001b[1;33m\u001b[0m\u001b[0m\n\u001b[1;32m-> 1611\u001b[1;33m         \u001b[1;32mfor\u001b[0m \u001b[0mline\u001b[0m \u001b[1;32min\u001b[0m \u001b[0mself\u001b[0m\u001b[1;33m.\u001b[0m\u001b[0m_get_lines\u001b[0m\u001b[1;33m(\u001b[0m\u001b[1;33m*\u001b[0m\u001b[0margs\u001b[0m\u001b[1;33m,\u001b[0m \u001b[1;33m**\u001b[0m\u001b[0mkwargs\u001b[0m\u001b[1;33m)\u001b[0m\u001b[1;33m:\u001b[0m\u001b[1;33m\u001b[0m\u001b[1;33m\u001b[0m\u001b[0m\n\u001b[0m\u001b[0;32m   1612\u001b[0m             \u001b[0mself\u001b[0m\u001b[1;33m.\u001b[0m\u001b[0madd_line\u001b[0m\u001b[1;33m(\u001b[0m\u001b[0mline\u001b[0m\u001b[1;33m)\u001b[0m\u001b[1;33m\u001b[0m\u001b[1;33m\u001b[0m\u001b[0m\n\u001b[0;32m   1613\u001b[0m             \u001b[0mlines\u001b[0m\u001b[1;33m.\u001b[0m\u001b[0mappend\u001b[0m\u001b[1;33m(\u001b[0m\u001b[0mline\u001b[0m\u001b[1;33m)\u001b[0m\u001b[1;33m\u001b[0m\u001b[1;33m\u001b[0m\u001b[0m\n",
      "\u001b[1;32m~\\Anaconda3\\lib\\site-packages\\matplotlib\\axes\\_base.py\u001b[0m in \u001b[0;36m_grab_next_args\u001b[1;34m(self, *args, **kwargs)\u001b[0m\n\u001b[0;32m    391\u001b[0m                 \u001b[0mthis\u001b[0m \u001b[1;33m+=\u001b[0m \u001b[0margs\u001b[0m\u001b[1;33m[\u001b[0m\u001b[1;36m0\u001b[0m\u001b[1;33m]\u001b[0m\u001b[1;33m,\u001b[0m\u001b[1;33m\u001b[0m\u001b[1;33m\u001b[0m\u001b[0m\n\u001b[0;32m    392\u001b[0m                 \u001b[0margs\u001b[0m \u001b[1;33m=\u001b[0m \u001b[0margs\u001b[0m\u001b[1;33m[\u001b[0m\u001b[1;36m1\u001b[0m\u001b[1;33m:\u001b[0m\u001b[1;33m]\u001b[0m\u001b[1;33m\u001b[0m\u001b[1;33m\u001b[0m\u001b[0m\n\u001b[1;32m--> 393\u001b[1;33m             \u001b[1;32myield\u001b[0m \u001b[1;32mfrom\u001b[0m \u001b[0mself\u001b[0m\u001b[1;33m.\u001b[0m\u001b[0m_plot_args\u001b[0m\u001b[1;33m(\u001b[0m\u001b[0mthis\u001b[0m\u001b[1;33m,\u001b[0m \u001b[0mkwargs\u001b[0m\u001b[1;33m)\u001b[0m\u001b[1;33m\u001b[0m\u001b[1;33m\u001b[0m\u001b[0m\n\u001b[0m\u001b[0;32m    394\u001b[0m \u001b[1;33m\u001b[0m\u001b[0m\n\u001b[0;32m    395\u001b[0m \u001b[1;33m\u001b[0m\u001b[0m\n",
      "\u001b[1;32m~\\Anaconda3\\lib\\site-packages\\matplotlib\\axes\\_base.py\u001b[0m in \u001b[0;36m_plot_args\u001b[1;34m(self, tup, kwargs)\u001b[0m\n\u001b[0;32m    381\u001b[0m                                   \"with non-matching shapes is deprecated.\")\n\u001b[0;32m    382\u001b[0m         \u001b[1;32mfor\u001b[0m \u001b[0mj\u001b[0m \u001b[1;32min\u001b[0m \u001b[0mrange\u001b[0m\u001b[1;33m(\u001b[0m\u001b[0mmax\u001b[0m\u001b[1;33m(\u001b[0m\u001b[0mncx\u001b[0m\u001b[1;33m,\u001b[0m \u001b[0mncy\u001b[0m\u001b[1;33m)\u001b[0m\u001b[1;33m)\u001b[0m\u001b[1;33m:\u001b[0m\u001b[1;33m\u001b[0m\u001b[1;33m\u001b[0m\u001b[0m\n\u001b[1;32m--> 383\u001b[1;33m             \u001b[0mseg\u001b[0m \u001b[1;33m=\u001b[0m \u001b[0mfunc\u001b[0m\u001b[1;33m(\u001b[0m\u001b[0mx\u001b[0m\u001b[1;33m[\u001b[0m\u001b[1;33m:\u001b[0m\u001b[1;33m,\u001b[0m \u001b[0mj\u001b[0m \u001b[1;33m%\u001b[0m \u001b[0mncx\u001b[0m\u001b[1;33m]\u001b[0m\u001b[1;33m,\u001b[0m \u001b[0my\u001b[0m\u001b[1;33m[\u001b[0m\u001b[1;33m:\u001b[0m\u001b[1;33m,\u001b[0m \u001b[0mj\u001b[0m \u001b[1;33m%\u001b[0m \u001b[0mncy\u001b[0m\u001b[1;33m]\u001b[0m\u001b[1;33m,\u001b[0m \u001b[0mkw\u001b[0m\u001b[1;33m,\u001b[0m \u001b[0mkwargs\u001b[0m\u001b[1;33m)\u001b[0m\u001b[1;33m\u001b[0m\u001b[1;33m\u001b[0m\u001b[0m\n\u001b[0m\u001b[0;32m    384\u001b[0m             \u001b[0mret\u001b[0m\u001b[1;33m.\u001b[0m\u001b[0mappend\u001b[0m\u001b[1;33m(\u001b[0m\u001b[0mseg\u001b[0m\u001b[1;33m)\u001b[0m\u001b[1;33m\u001b[0m\u001b[1;33m\u001b[0m\u001b[0m\n\u001b[0;32m    385\u001b[0m         \u001b[1;32mreturn\u001b[0m \u001b[0mret\u001b[0m\u001b[1;33m\u001b[0m\u001b[1;33m\u001b[0m\u001b[0m\n",
      "\u001b[1;32m~\\Anaconda3\\lib\\site-packages\\matplotlib\\axes\\_base.py\u001b[0m in \u001b[0;36m_makeline\u001b[1;34m(self, x, y, kw, kwargs)\u001b[0m\n\u001b[0;32m    286\u001b[0m         \u001b[0mdefault_dict\u001b[0m \u001b[1;33m=\u001b[0m \u001b[0mself\u001b[0m\u001b[1;33m.\u001b[0m\u001b[0m_getdefaults\u001b[0m\u001b[1;33m(\u001b[0m\u001b[1;32mNone\u001b[0m\u001b[1;33m,\u001b[0m \u001b[0mkw\u001b[0m\u001b[1;33m)\u001b[0m\u001b[1;33m\u001b[0m\u001b[1;33m\u001b[0m\u001b[0m\n\u001b[0;32m    287\u001b[0m         \u001b[0mself\u001b[0m\u001b[1;33m.\u001b[0m\u001b[0m_setdefaults\u001b[0m\u001b[1;33m(\u001b[0m\u001b[0mdefault_dict\u001b[0m\u001b[1;33m,\u001b[0m \u001b[0mkw\u001b[0m\u001b[1;33m)\u001b[0m\u001b[1;33m\u001b[0m\u001b[1;33m\u001b[0m\u001b[0m\n\u001b[1;32m--> 288\u001b[1;33m         \u001b[0mseg\u001b[0m \u001b[1;33m=\u001b[0m \u001b[0mmlines\u001b[0m\u001b[1;33m.\u001b[0m\u001b[0mLine2D\u001b[0m\u001b[1;33m(\u001b[0m\u001b[0mx\u001b[0m\u001b[1;33m,\u001b[0m \u001b[0my\u001b[0m\u001b[1;33m,\u001b[0m \u001b[1;33m**\u001b[0m\u001b[0mkw\u001b[0m\u001b[1;33m)\u001b[0m\u001b[1;33m\u001b[0m\u001b[1;33m\u001b[0m\u001b[0m\n\u001b[0m\u001b[0;32m    289\u001b[0m         \u001b[1;32mreturn\u001b[0m \u001b[0mseg\u001b[0m\u001b[1;33m\u001b[0m\u001b[1;33m\u001b[0m\u001b[0m\n\u001b[0;32m    290\u001b[0m \u001b[1;33m\u001b[0m\u001b[0m\n",
      "\u001b[1;32m~\\Anaconda3\\lib\\site-packages\\matplotlib\\lines.py\u001b[0m in \u001b[0;36m__init__\u001b[1;34m(self, xdata, ydata, linewidth, linestyle, color, marker, markersize, markeredgewidth, markeredgecolor, markerfacecolor, markerfacecoloralt, fillstyle, antialiased, dash_capstyle, solid_capstyle, dash_joinstyle, solid_joinstyle, pickradius, drawstyle, markevery, **kwargs)\u001b[0m\n\u001b[0;32m    384\u001b[0m         \u001b[0mself\u001b[0m\u001b[1;33m.\u001b[0m\u001b[0m_color\u001b[0m \u001b[1;33m=\u001b[0m \u001b[1;32mNone\u001b[0m\u001b[1;33m\u001b[0m\u001b[1;33m\u001b[0m\u001b[0m\n\u001b[0;32m    385\u001b[0m         \u001b[0mself\u001b[0m\u001b[1;33m.\u001b[0m\u001b[0mset_color\u001b[0m\u001b[1;33m(\u001b[0m\u001b[0mcolor\u001b[0m\u001b[1;33m)\u001b[0m\u001b[1;33m\u001b[0m\u001b[1;33m\u001b[0m\u001b[0m\n\u001b[1;32m--> 386\u001b[1;33m         \u001b[0mself\u001b[0m\u001b[1;33m.\u001b[0m\u001b[0m_marker\u001b[0m \u001b[1;33m=\u001b[0m \u001b[0mMarkerStyle\u001b[0m\u001b[1;33m(\u001b[0m\u001b[0mmarker\u001b[0m\u001b[1;33m,\u001b[0m \u001b[0mfillstyle\u001b[0m\u001b[1;33m)\u001b[0m\u001b[1;33m\u001b[0m\u001b[1;33m\u001b[0m\u001b[0m\n\u001b[0m\u001b[0;32m    387\u001b[0m \u001b[1;33m\u001b[0m\u001b[0m\n\u001b[0;32m    388\u001b[0m         \u001b[0mself\u001b[0m\u001b[1;33m.\u001b[0m\u001b[0m_markevery\u001b[0m \u001b[1;33m=\u001b[0m \u001b[1;32mNone\u001b[0m\u001b[1;33m\u001b[0m\u001b[1;33m\u001b[0m\u001b[0m\n",
      "\u001b[1;32m~\\Anaconda3\\lib\\site-packages\\matplotlib\\markers.py\u001b[0m in \u001b[0;36m__init__\u001b[1;34m(self, marker, fillstyle)\u001b[0m\n\u001b[0;32m    243\u001b[0m         \u001b[0mself\u001b[0m\u001b[1;33m.\u001b[0m\u001b[0m_marker_function\u001b[0m \u001b[1;33m=\u001b[0m \u001b[1;32mNone\u001b[0m\u001b[1;33m\u001b[0m\u001b[1;33m\u001b[0m\u001b[0m\n\u001b[0;32m    244\u001b[0m         \u001b[0mself\u001b[0m\u001b[1;33m.\u001b[0m\u001b[0mset_fillstyle\u001b[0m\u001b[1;33m(\u001b[0m\u001b[0mfillstyle\u001b[0m\u001b[1;33m)\u001b[0m\u001b[1;33m\u001b[0m\u001b[1;33m\u001b[0m\u001b[0m\n\u001b[1;32m--> 245\u001b[1;33m         \u001b[0mself\u001b[0m\u001b[1;33m.\u001b[0m\u001b[0mset_marker\u001b[0m\u001b[1;33m(\u001b[0m\u001b[0mmarker\u001b[0m\u001b[1;33m)\u001b[0m\u001b[1;33m\u001b[0m\u001b[1;33m\u001b[0m\u001b[0m\n\u001b[0m\u001b[0;32m    246\u001b[0m \u001b[1;33m\u001b[0m\u001b[0m\n\u001b[0;32m    247\u001b[0m     \u001b[1;32mdef\u001b[0m \u001b[0m_recache\u001b[0m\u001b[1;33m(\u001b[0m\u001b[0mself\u001b[0m\u001b[1;33m)\u001b[0m\u001b[1;33m:\u001b[0m\u001b[1;33m\u001b[0m\u001b[1;33m\u001b[0m\u001b[0m\n",
      "\u001b[1;32m~\\Anaconda3\\lib\\site-packages\\matplotlib\\markers.py\u001b[0m in \u001b[0;36mset_marker\u001b[1;34m(self, marker)\u001b[0m\n\u001b[0;32m    316\u001b[0m \u001b[1;33m\u001b[0m\u001b[0m\n\u001b[0;32m    317\u001b[0m         \u001b[0mself\u001b[0m\u001b[1;33m.\u001b[0m\u001b[0m_marker\u001b[0m \u001b[1;33m=\u001b[0m \u001b[0mmarker\u001b[0m\u001b[1;33m\u001b[0m\u001b[1;33m\u001b[0m\u001b[0m\n\u001b[1;32m--> 318\u001b[1;33m         \u001b[0mself\u001b[0m\u001b[1;33m.\u001b[0m\u001b[0m_recache\u001b[0m\u001b[1;33m(\u001b[0m\u001b[1;33m)\u001b[0m\u001b[1;33m\u001b[0m\u001b[1;33m\u001b[0m\u001b[0m\n\u001b[0m\u001b[0;32m    319\u001b[0m \u001b[1;33m\u001b[0m\u001b[0m\n\u001b[0;32m    320\u001b[0m     \u001b[1;32mdef\u001b[0m \u001b[0mget_path\u001b[0m\u001b[1;33m(\u001b[0m\u001b[0mself\u001b[0m\u001b[1;33m)\u001b[0m\u001b[1;33m:\u001b[0m\u001b[1;33m\u001b[0m\u001b[1;33m\u001b[0m\u001b[0m\n",
      "\u001b[1;32m~\\Anaconda3\\lib\\site-packages\\matplotlib\\markers.py\u001b[0m in \u001b[0;36m_recache\u001b[1;34m(self)\u001b[0m\n\u001b[0;32m    256\u001b[0m         \u001b[0mself\u001b[0m\u001b[1;33m.\u001b[0m\u001b[0m_capstyle\u001b[0m \u001b[1;33m=\u001b[0m \u001b[1;34m'butt'\u001b[0m\u001b[1;33m\u001b[0m\u001b[1;33m\u001b[0m\u001b[0m\n\u001b[0;32m    257\u001b[0m         \u001b[0mself\u001b[0m\u001b[1;33m.\u001b[0m\u001b[0m_filled\u001b[0m \u001b[1;33m=\u001b[0m \u001b[1;32mTrue\u001b[0m\u001b[1;33m\u001b[0m\u001b[1;33m\u001b[0m\u001b[0m\n\u001b[1;32m--> 258\u001b[1;33m         \u001b[0mself\u001b[0m\u001b[1;33m.\u001b[0m\u001b[0m_marker_function\u001b[0m\u001b[1;33m(\u001b[0m\u001b[1;33m)\u001b[0m\u001b[1;33m\u001b[0m\u001b[1;33m\u001b[0m\u001b[0m\n\u001b[0m\u001b[0;32m    259\u001b[0m \u001b[1;33m\u001b[0m\u001b[0m\n\u001b[0;32m    260\u001b[0m     \u001b[1;32mdef\u001b[0m \u001b[0m__bool__\u001b[0m\u001b[1;33m(\u001b[0m\u001b[0mself\u001b[0m\u001b[1;33m)\u001b[0m\u001b[1;33m:\u001b[0m\u001b[1;33m\u001b[0m\u001b[1;33m\u001b[0m\u001b[0m\n",
      "\u001b[1;32m~\\Anaconda3\\lib\\site-packages\\matplotlib\\markers.py\u001b[0m in \u001b[0;36m_set_circle\u001b[1;34m(self, reduction)\u001b[0m\n\u001b[0;32m    421\u001b[0m \u001b[1;33m\u001b[0m\u001b[0m\n\u001b[0;32m    422\u001b[0m     \u001b[1;32mdef\u001b[0m \u001b[0m_set_circle\u001b[0m\u001b[1;33m(\u001b[0m\u001b[0mself\u001b[0m\u001b[1;33m,\u001b[0m \u001b[0mreduction\u001b[0m\u001b[1;33m=\u001b[0m\u001b[1;36m1.0\u001b[0m\u001b[1;33m)\u001b[0m\u001b[1;33m:\u001b[0m\u001b[1;33m\u001b[0m\u001b[1;33m\u001b[0m\u001b[0m\n\u001b[1;32m--> 423\u001b[1;33m         \u001b[0mself\u001b[0m\u001b[1;33m.\u001b[0m\u001b[0m_transform\u001b[0m \u001b[1;33m=\u001b[0m \u001b[0mAffine2D\u001b[0m\u001b[1;33m(\u001b[0m\u001b[1;33m)\u001b[0m\u001b[1;33m.\u001b[0m\u001b[0mscale\u001b[0m\u001b[1;33m(\u001b[0m\u001b[1;36m0.5\u001b[0m \u001b[1;33m*\u001b[0m \u001b[0mreduction\u001b[0m\u001b[1;33m)\u001b[0m\u001b[1;33m\u001b[0m\u001b[1;33m\u001b[0m\u001b[0m\n\u001b[0m\u001b[0;32m    424\u001b[0m         \u001b[0mself\u001b[0m\u001b[1;33m.\u001b[0m\u001b[0m_snap_threshold\u001b[0m \u001b[1;33m=\u001b[0m \u001b[0mnp\u001b[0m\u001b[1;33m.\u001b[0m\u001b[0minf\u001b[0m\u001b[1;33m\u001b[0m\u001b[1;33m\u001b[0m\u001b[0m\n\u001b[0;32m    425\u001b[0m         \u001b[0mfs\u001b[0m \u001b[1;33m=\u001b[0m \u001b[0mself\u001b[0m\u001b[1;33m.\u001b[0m\u001b[0mget_fillstyle\u001b[0m\u001b[1;33m(\u001b[0m\u001b[1;33m)\u001b[0m\u001b[1;33m\u001b[0m\u001b[1;33m\u001b[0m\u001b[0m\n",
      "\u001b[1;32m~\\Anaconda3\\lib\\site-packages\\matplotlib\\transforms.py\u001b[0m in \u001b[0;36mscale\u001b[1;34m(self, sx, sy)\u001b[0m\n\u001b[0;32m   2040\u001b[0m         scale_mtx = np.array(\n\u001b[0;32m   2041\u001b[0m             [[sx, 0.0, 0.0], [0.0, sy, 0.0], [0.0, 0.0, 1.0]], float)\n\u001b[1;32m-> 2042\u001b[1;33m         \u001b[0mself\u001b[0m\u001b[1;33m.\u001b[0m\u001b[0m_mtx\u001b[0m \u001b[1;33m=\u001b[0m \u001b[0mnp\u001b[0m\u001b[1;33m.\u001b[0m\u001b[0mdot\u001b[0m\u001b[1;33m(\u001b[0m\u001b[0mscale_mtx\u001b[0m\u001b[1;33m,\u001b[0m \u001b[0mself\u001b[0m\u001b[1;33m.\u001b[0m\u001b[0m_mtx\u001b[0m\u001b[1;33m)\u001b[0m\u001b[1;33m\u001b[0m\u001b[1;33m\u001b[0m\u001b[0m\n\u001b[0m\u001b[0;32m   2043\u001b[0m         \u001b[0mself\u001b[0m\u001b[1;33m.\u001b[0m\u001b[0minvalidate\u001b[0m\u001b[1;33m(\u001b[0m\u001b[1;33m)\u001b[0m\u001b[1;33m\u001b[0m\u001b[1;33m\u001b[0m\u001b[0m\n\u001b[0;32m   2044\u001b[0m         \u001b[1;32mreturn\u001b[0m \u001b[0mself\u001b[0m\u001b[1;33m\u001b[0m\u001b[1;33m\u001b[0m\u001b[0m\n",
      "\u001b[1;31mKeyboardInterrupt\u001b[0m: "
     ]
    },
    {
     "data": {
      "image/png": "[encoded data removed]",
      "text/plain": [
       "<Figure size 432x288 with 1 Axes>"
      ]
     },
     "metadata": {
      "needs_background": "light"
     },
     "output_type": "display_data"
    }
   ],
   "source": [
    "fk = Forward_kinematics()\n",
    "#e_prev = e\n",
    "while(inside):\n",
    "    e = np.matrix(fk.end_effector(t0,t1,t2))\n",
    "    e_t0 = np.matrix(fk.end_effector(t0_1,t1,t2))\n",
    "    e_t1 = np.matrix(fk.end_effector(t0,t1_1,t2))\n",
    "    e_t2 = np.matrix(fk.end_effector(t0,t1,t2_1))\n",
    "    \n",
    "    e = e[0:2,3]\n",
    "    e_t0 = e_t0[0:2,3]\n",
    "    e_t1 = e_t1[0:2,3]\n",
    "    e_t2 = e_t2[0:2,3]\n",
    "    \n",
    "    e_del_t0 = np.subtract(e_t0,e)\n",
    "    e_del_t1 = np.subtract(e_t1,e)\n",
    "    e_del_t2 = np.subtract(e_t2,e)\n",
    "    \n",
    "    e_prev = e\n",
    "\n",
    "    J = np.c_[e_del_t0,e_del_t1,e_del_t2]\n",
    "    \n",
    "    J_inv = np.dot((np.linalg.inv(np.transpose(J)*J)),np.transpose(J))\n",
    "    \n",
    "    # Finding new End effector position\n",
    "    sign_x = int(sign(e_des[0][0] , e[0][0]))\n",
    "    sign_y = int(sign(e_des[1][0] , e[1][0]))\n",
    "    \n",
    "    \n",
    "    p = 0.0001\n",
    "    y_p = float(e[1][0] + p*sign_y)\n",
    "    x_p = float(e[0][0] + p*sign_x)\n",
    "\n",
    "    \n",
    "    e_del_x = float(e[0][0] - x_p)\n",
    "    e_del_y = float(e[1][0] - y_p)\n",
    "    \n",
    "    e_del_norm = [[e_del_x],[e_del_y]]\n",
    "    t_del = np.dot(J_inv,e_del_norm)\n",
    "    \n",
    "    t_new = np.add([[t0],[t1],[t2]],t_del)\n",
    "    t0 = float(t_new[0][0])\n",
    "    t1 = float(t_new[1][0])\n",
    "    t2 = float(t_new[2][0])\n",
    "    \n",
    "    q = 5\n",
    "    t0_0 = t0 + q*dT0\n",
    "    t0_1 = t1 + q*dT0\n",
    "    t0_2 = t2 + q*dT0\n",
    "\n",
    "    met = np.sqrt((e[0][0]-e_des[0][0])**2 +(e[1][0]-e_des[1][0])**2)\n",
    "    \n",
    "    # Plot \n",
    "    plt.plot(0,0,'ko')\n",
    "    #plt.plot(np.squeeze(np.asarray(ini_pos[0][0])), np.squeeze(np.asarray(ini_pos[1][0])), 'yo')    \n",
    "    plt.plot(e[0][0], e[1][0], 'r>')\n",
    "    plt.plot(e_des[0][0], e_des[1][0], 'bo')\n",
    "    plt.show\n",
    "    \n",
    "    if met < 0.3 : inside = False"
   ]
  },
  {
   "cell_type": "code",
   "execution_count": null,
   "metadata": {},
   "outputs": [],
   "source": []
  },
  {
   "cell_type": "code",
   "execution_count": null,
   "metadata": {},
   "outputs": [],
   "source": []
  },
  {
   "cell_type": "code",
   "execution_count": null,
   "metadata": {},
   "outputs": [],
   "source": []
  },
  {
   "cell_type": "code",
   "execution_count": 49,
   "metadata": {},
   "outputs": [
    {
     "name": "stdout",
     "output_type": "stream",
     "text": [
      "KTM = K.T.M = \n"
     ]
    },
    {
     "data": {
      "text/latex": [
       "$$\\left[\\begin{matrix}T_{x} f_{x} + T_{z} c_{x} + X \\left(c_{x} x_{20} + f_{x} x_{00}\\right) + Y \\left(c_{x} x_{21} + f_{x} x_{01}\\right) + Z \\left(c_{x} x_{22} + f_{x} x_{02}\\right)\\\\T_{y} f_{y} + T_{z} c_{y} + X \\left(c_{y} x_{20} + f_{y} x_{10}\\right) + Y \\left(c_{y} x_{21} + f_{y} x_{11}\\right) + Z \\left(c_{y} x_{22} + f_{y} x_{12}\\right)\\\\1\\end{matrix}\\right]$$"
      ],
      "text/plain": [
       "⎡    Tₓ⋅fₓ + T_z⋅cₓ + X⋅(cₓ⋅x₂₀ + fₓ⋅x₀₀) + Y⋅(cₓ⋅x₂₁ + fₓ⋅x₀₁) + Z⋅(cₓ⋅x₂₂ + \n",
       "⎢                                                                             \n",
       "⎢T_y⋅f_y + T_z⋅c_y + X⋅(c_y⋅x₂₀ + f_y⋅x₁₀) + Y⋅(c_y⋅x₂₁ + f_y⋅x₁₁) + Z⋅(c_y⋅x₂\n",
       "⎢                                                                             \n",
       "⎣                                            1                                \n",
       "\n",
       "fₓ⋅x₀₂)     ⎤\n",
       "            ⎥\n",
       "₂ + f_y⋅x₁₂)⎥\n",
       "            ⎥\n",
       "            ⎦"
      ]
     },
     "metadata": {},
     "output_type": "display_data"
    },
    {
     "name": "stdout",
     "output_type": "stream",
     "text": [
      "Vector of Unkowns xx.T = \n"
     ]
    },
    {
     "data": {
      "text/latex": [
       "$$\\left[\\begin{array}{cccccccccccc}x_{02} & x_{01} & x_{11} & x_{20} & x_{22} & x_{10} & x_{00} & T_{y} & x_{21} & T_{z} & T_{x} & x_{12}\\end{array}\\right]$$"
      ],
      "text/plain": [
       "[x₀₂  x₀₁  x₁₁  x₂₀  x₂₂  x₁₀  x₀₀  T_y  x₂₁  T_z  Tₓ  x₁₂]"
      ]
     },
     "metadata": {},
     "output_type": "display_data"
    },
    {
     "name": "stdout",
     "output_type": "stream",
     "text": [
      "For equation HH.xx = mm, HH = \n"
     ]
    },
    {
     "data": {
      "text/latex": [
       "$$\\left[\\begin{array}{cccccccccccc}Z f_{x} & Y f_{x} & 0 & X c_{x} & Z c_{x} & 0 & X f_{x} & 0 & Y c_{x} & c_{x} & f_{x} & 0\\\\0 & 0 & Y f_{y} & X c_{y} & Z c_{y} & X f_{y} & 0 & f_{y} & Y c_{y} & c_{y} & 0 & Z f_{y}\\end{array}\\right]$$"
      ],
      "text/plain": [
       "⎡Z⋅fₓ  Y⋅fₓ    0    X⋅cₓ   Z⋅cₓ     0    X⋅fₓ   0   Y⋅cₓ   cₓ   fₓ    0  ⎤\n",
       "⎢                                                                        ⎥\n",
       "⎣ 0     0    Y⋅f_y  X⋅c_y  Z⋅c_y  X⋅f_y   0    f_y  Y⋅c_y  c_y  0   Z⋅f_y⎦"
      ]
     },
     "metadata": {},
     "output_type": "display_data"
    }
   ],
   "source": [
    "from IPython.display import display\n",
    "import sympy as sy\n",
    "\n",
    "sy.init_printing()  # LaTeX like pretty printing for IPython\n",
    "\n",
    "# declaring symbolic variables:\n",
    "x, y, X, Y, Z, fx, fy, cx, cy = sy.symbols(\"x y X Y Z f_x f_y c_x c_y\", real=True)\n",
    "x00, x01, x02, x10, x11 = sy.symbols(\"x00, x01, x02, x10, x11\", real=True)\n",
    "x12, x20, x21, x22 = sy.symbols(\"x12, x20, x21, x22\", real=True)\n",
    "Tx, Ty, Tz = sy.symbols(\" T_x T_y T_z\", real=True)\n",
    "\n",
    "# Building matrices and vectors:\n",
    "M = sy.Matrix([X, Y, Z, 1])\n",
    "m = sy.Matrix([x, y, 1])\n",
    "K = sy.Matrix([[fx,  0, cx, 0],\n",
    "               [0,  fy, cy, 0],\n",
    "               [0,   0,  0, 1]])\n",
    "T = sy.Matrix([[x00, x01, x02, Tx],\n",
    "               [x10, x11, x12, Ty],\n",
    "               [x20, x21, x22, Tz],\n",
    "               [0,     0,   0,  1]])\n",
    "\n",
    "print(\"KTM = K.T.M = \")\n",
    "KTM = sy.simplify(K*T*M)\n",
    "display(KTM)\n",
    "\n",
    "print(\"Vector of Unkowns xx.T = \")\n",
    "xx = sy.Matrix(list(T.atoms(sy.Symbol)))\n",
    "display(xx.T)\n",
    "print(\"For equation HH.xx = mm, HH = \")\n",
    "HH = KTM[:2, :].jacobian(xx)  # calculate the derivative for each unknown\n",
    "display(HH)"
   ]
  },
  {
   "cell_type": "code",
   "execution_count": 54,
   "metadata": {},
   "outputs": [
    {
     "ename": "AttributeError",
     "evalue": "'Symbol' object has no attribute 'cos'",
     "output_type": "error",
     "traceback": [
      "\u001b[1;31m---------------------------------------------------------------------------\u001b[0m",
      "\u001b[1;31mAttributeError\u001b[0m                            Traceback (most recent call last)",
      "\u001b[1;32m<ipython-input-54-0b545c6ed87a>\u001b[0m in \u001b[0;36m<module>\u001b[1;34m\u001b[0m\n\u001b[0;32m      1\u001b[0m \u001b[1;33m\u001b[0m\u001b[0m\n\u001b[0;32m      2\u001b[0m \u001b[0mA0\u001b[0m\u001b[1;33m,\u001b[0m\u001b[0mA1\u001b[0m\u001b[1;33m,\u001b[0m\u001b[0mA2\u001b[0m\u001b[1;33m,\u001b[0m\u001b[0mT0\u001b[0m\u001b[1;33m,\u001b[0m\u001b[0mT1\u001b[0m\u001b[1;33m,\u001b[0m\u001b[0mT2\u001b[0m \u001b[1;33m=\u001b[0m \u001b[0msy\u001b[0m\u001b[1;33m.\u001b[0m\u001b[0msymbols\u001b[0m\u001b[1;33m(\u001b[0m\u001b[1;34m\"A0 A1 A2 T0 T1 T2\"\u001b[0m\u001b[1;33m,\u001b[0m\u001b[0mreal\u001b[0m \u001b[1;33m=\u001b[0m \u001b[1;32mTrue\u001b[0m\u001b[1;33m)\u001b[0m\u001b[1;33m\u001b[0m\u001b[1;33m\u001b[0m\u001b[0m\n\u001b[1;32m----> 3\u001b[1;33m t0_1 =sy.Matrix([[np.cos(T0), np.sin(T0), 0, a0*np.cos(T0)]\n\u001b[0m\u001b[0;32m      4\u001b[0m                  \u001b[1;33m[\u001b[0m\u001b[0mnp\u001b[0m\u001b[1;33m.\u001b[0m\u001b[0msin\u001b[0m\u001b[1;33m(\u001b[0m\u001b[0mT0\u001b[0m\u001b[1;33m)\u001b[0m\u001b[1;33m,\u001b[0m \u001b[0mnp\u001b[0m\u001b[1;33m.\u001b[0m\u001b[0mcos\u001b[0m\u001b[1;33m(\u001b[0m\u001b[0mT0\u001b[0m\u001b[1;33m)\u001b[0m\u001b[1;33m,\u001b[0m \u001b[1;36m0\u001b[0m\u001b[1;33m,\u001b[0m \u001b[0ma0\u001b[0m\u001b[1;33m*\u001b[0m\u001b[0mnp\u001b[0m\u001b[1;33m.\u001b[0m\u001b[0msin\u001b[0m\u001b[1;33m(\u001b[0m\u001b[0mT0\u001b[0m\u001b[1;33m)\u001b[0m\u001b[1;33m]\u001b[0m\u001b[1;33m\u001b[0m\u001b[1;33m\u001b[0m\u001b[0m\n\u001b[0;32m      5\u001b[0m                  \u001b[1;33m[\u001b[0m\u001b[1;36m0\u001b[0m\u001b[1;33m,\u001b[0m \u001b[1;36m0\u001b[0m\u001b[1;33m,\u001b[0m \u001b[1;36m1\u001b[0m\u001b[1;33m,\u001b[0m \u001b[1;36m0\u001b[0m\u001b[1;33m]\u001b[0m\u001b[1;33m\u001b[0m\u001b[1;33m\u001b[0m\u001b[0m\n",
      "\u001b[1;31mAttributeError\u001b[0m: 'Symbol' object has no attribute 'cos'"
     ]
    }
   ],
   "source": [
    "\n",
    "A0,A1,A2,T0,T1,T2 = sy.symbols(\"A0 A1 A2 T0 T1 T2\",real = True)\n",
    "t0_1 =sy.Matrix([[np.cos(T0), np.sin(T0), 0, a0*np.cos(T0)]\n",
    "                 [np.sin(T0), np.cos(T0), 0, a0*np.sin(T0)]\n",
    "                 [0, 0, 1, 0]\n",
    "                 [0, 0, 0, 1]])\n",
    "display(f_j)"
   ]
  },
  {
   "cell_type": "code",
   "execution_count": 57,
   "metadata": {},
   "outputs": [
    {
     "ename": "NameError",
     "evalue": "name 'cos' is not defined",
     "output_type": "error",
     "traceback": [
      "\u001b[1;31m---------------------------------------------------------------------------\u001b[0m",
      "\u001b[1;31mNameError\u001b[0m                                 Traceback (most recent call last)",
      "\u001b[1;32m<ipython-input-57-6c07113cea46>\u001b[0m in \u001b[0;36m<module>\u001b[1;34m\u001b[0m\n\u001b[0;32m      1\u001b[0m \u001b[1;33m\u001b[0m\u001b[0m\n\u001b[1;32m----> 2\u001b[1;33m display([[cos(x+y),\t-sin(x+y),\t(2*sin(x)+sin(x+y)-sin(x-y))/2,\ta*cos(x)+b*cos(x+y)]\n\u001b[0m\u001b[0;32m      3\u001b[0m          \u001b[1;33m[\u001b[0m\u001b[0msin\u001b[0m\u001b[1;33m(\u001b[0m\u001b[0mx\u001b[0m\u001b[1;33m+\u001b[0m\u001b[0my\u001b[0m\u001b[1;33m)\u001b[0m\u001b[1;33m,\u001b[0m      \u001b[0mcos\u001b[0m\u001b[1;33m(\u001b[0m\u001b[0mx\u001b[0m\u001b[1;33m+\u001b[0m\u001b[0my\u001b[0m\u001b[1;33m)\u001b[0m\u001b[1;33m,\u001b[0m              \u001b[1;33m(\u001b[0m\u001b[1;33m-\u001b[0m\u001b[0mcos\u001b[0m\u001b[1;33m(\u001b[0m\u001b[0mx\u001b[0m\u001b[1;33m+\u001b[0m\u001b[0my\u001b[0m\u001b[1;33m)\u001b[0m\u001b[1;33m+\u001b[0m\u001b[0mcos\u001b[0m\u001b[1;33m(\u001b[0m\u001b[0mx\u001b[0m\u001b[1;33m-\u001b[0m\u001b[0my\u001b[0m\u001b[1;33m)\u001b[0m\u001b[1;33m)\u001b[0m\u001b[1;33m/\u001b[0m\u001b[1;36m2\u001b[0m\u001b[1;33m,\u001b[0m \u001b[0ma\u001b[0m\u001b[1;33m*\u001b[0m\u001b[0msin\u001b[0m\u001b[1;33m(\u001b[0m\u001b[0mx\u001b[0m\u001b[1;33m)\u001b[0m\u001b[1;33m+\u001b[0m\u001b[0mb\u001b[0m\u001b[1;33m*\u001b[0m\u001b[0msin\u001b[0m\u001b[1;33m(\u001b[0m\u001b[0mx\u001b[0m\u001b[1;33m+\u001b[0m\u001b[0my\u001b[0m\u001b[1;33m)\u001b[0m\u001b[1;33m]\u001b[0m\u001b[1;33m\u001b[0m\u001b[1;33m\u001b[0m\u001b[0m\n\u001b[0;32m      4\u001b[0m          \u001b[1;33m[\u001b[0m\u001b[1;36m0\u001b[0m\u001b[1;33m,\u001b[0m            \u001b[1;36m0\u001b[0m\u001b[1;33m,\u001b[0m                                   \u001b[1;36m1\u001b[0m\u001b[1;33m,\u001b[0m                   \u001b[1;36m0\u001b[0m\u001b[1;33m]\u001b[0m\u001b[1;33m\u001b[0m\u001b[1;33m\u001b[0m\u001b[0m\n\u001b[0;32m      5\u001b[0m          [0,\t        0,\t                             0,\t                  1]])\n",
      "\u001b[1;31mNameError\u001b[0m: name 'cos' is not defined"
     ]
    }
   ],
   "source": [
    "\n",
    "cos(x+y+z)\t-sin(x+y+z)\t(2*sin(x)+sin(x+y)-sin(x-y)+sin(x+y+z)-sin(x+y-z))/2\ta*cos(x)+b*cos(x+y)+c*cos(x+y+z)\n",
    "sin(x+y+z)\t cos(x+y+z)\t        (-cos(x+y)+cos(x-y)-cos(x+y+z)+cos(x+y-z))/2\ta*sin(x)+b*sin(x+y)+c*sin(x+y+z)\n",
    "         0\t          0\t                                                   1\t                               0\n",
    "         0\t          0\t                                                   0\t                               1\n"
   ]
  },
  {
   "cell_type": "code",
   "execution_count": null,
   "metadata": {},
   "outputs": [],
   "source": [
    "\n",
    "cos(x+y)\t-sin(x+y)\t(2*sin(x)+sin(x+y)-sin(x-y))/2\ta*cos(x)+b*cos(x+y)\n",
    "sin(x+y)\t cos(x+y)\t        (-cos(x+y)+cos(x-y))/2\ta*sin(x)+b*sin(x+y)\n",
    "       0\t        0\t                             1\t                  0\n",
    "       0\t        0\t                             0\t                  1\n"
   ]
  }
 ],
 "metadata": {
  "kernelspec": {
   "display_name": "Python 3",
   "language": "python",
   "name": "python3"
  },
  "language_info": {
   "codemirror_mode": {
    "name": "ipython",
    "version": 3
   },
   "file_extension": ".py",
   "mimetype": "text/x-python",
   "name": "python",
   "nbconvert_exporter": "python",
   "pygments_lexer": "ipython3",
   "version": "3.7.3"
  }
 },
 "nbformat": 4,
 "nbformat_minor": 2
}
