{
 "cells": [
  {
   "cell_type": "code",
   "execution_count": 26,
   "metadata": {},
   "outputs": [],
   "source": [
    "import numpy as np\n",
    "from numpy.linalg import pinv\n",
    "from time import time\n",
    "import matplotlib.pyplot as plt\n"
   ]
  },
  {
   "cell_type": "code",
   "execution_count": 27,
   "metadata": {},
   "outputs": [],
   "source": [
    "# lengths in m \n",
    "l0, l1, l2, l3 = 0.12225, 0.056, 0.177, 0.135952\n",
    "\n",
    "# origin\n",
    "x0, y0, z0 = 0, 0, 0\n",
    "\n",
    "# Metric\n",
    "metric = 0.01 \n",
    "\n",
    "# Destination\n",
    "#e_des = [-0.04127370851174543,-0.1709845251223143]\n",
    "#e_l_des = [0.04127370851174543,-0.1709845251223143]\n",
    "e_des_r = [-0.1,0]\n",
    "e_des_l = [0.1,0]\n",
    "\n",
    "# Initial theta\n",
    "t_r = [0,0,0,0]\n",
    "t_l = [0,0,0,0]\n",
    "\n",
    "# Error\n",
    "err_r = 10\n",
    "threshold = 0.001\n",
    "# Time period\n",
    "dt = 0.001\n",
    "\n",
    "dt0, dt1, dt2, dt3 = (dt,0,0,0), (0,dt,0,0), (0,0,dt,0), (0,0,0,dt)\n",
    "\n",
    "# linearisation val\n",
    "e_lin = 0.001\n"
   ]
  },
  {
   "cell_type": "code",
   "execution_count": 28,
   "metadata": {},
   "outputs": [
    {
     "data": {
      "text/plain": [
       "<Figure size 432x288 with 0 Axes>"
      ]
     },
     "metadata": {},
     "output_type": "display_data"
    }
   ],
   "source": [
    "class ForwardKinematics():\n",
    "    def get_right_end_eff(self,t=(0,0,0,0)):\n",
    "        (t0,t1,t2,t3) = t\n",
    "        x = np.cumsum([x0,0,0,0,0])\n",
    "        y = np.cumsum([y0 , -(l0*np.cos(t0)) , -(l1*np.cos(t0 + t1)) ,  l2*np.sin(t0 + t1 + t2)   ,   l3*np.sin(t0 + t1 + t2 + t3)  ])\n",
    "        z = np.cumsum([z0 ,  l0*np.sin(t0)   ,   l1*np.sin(t0 + t1)  , -(l2*np.cos(t0 + t1 + t2)) , -(l3*np.cos(t0 + t1 + t2 + t3)) ])\n",
    "        #print(\"right posi\",x,y,z,sep='\\n', end='\\n\\n')\n",
    "        return list(x),list(y),list(z) \n",
    "\n",
    "    def get_right_orientation(self,t=(0,0,0,0)):\n",
    "        (t0,t1,t2,t3) = t\n",
    "        xt = np.cumsum([t0,  t1,  t2-1.5708,  t3])\n",
    "        yt = np.cumsum([ 0,  0 ,     0     ,   0])\n",
    "        zt = np.cumsum([ 0,  0 ,     0     ,   0])\n",
    "        #print(\"right orient\",xt,yt,zt,sep='\\n', end='\\n\\n')\n",
    "        return list(xt),list(yt),list(zt) \n",
    "    \n",
    "    def get_left_end_eff(self,t=(0,0,0,0)):\n",
    "        (t0,t1,t2,t3) = t\n",
    "        x = np.cumsum([x0,0,0,0,0])\n",
    "        y = np.cumsum([y0, l0*np.cos(t0) , l1*np.cos(t0 + t1) ,  l2*np.sin(t0 + t1 + t2) ,  l3*np.sin(t0 + t1 + t2 + t3) ])\n",
    "        z = np.cumsum([z0, l0*np.sin(t0) , l1*np.sin(t0 + t1) , -l2*np.cos(t0 + t1 + t2) , -l3*np.cos(t0 + t1 + t2 + t3) ])\n",
    "        #print(\"left posi\",x,y,z,sep='\\n',end='\\n\\n')\n",
    "        return list(x),list(y),list(z)    \n",
    "\n",
    "    def get_left_orientation(self,t=(0,0,0,0)):\n",
    "        (t0,t1,t2,t3) = t\n",
    "        xt = np.cumsum([t0,  t1,  t2-1.5708,  t3])\n",
    "        yt = np.cumsum([ 0,  0 ,     0     ,   0])\n",
    "        zt = np.cumsum([ 0,  0 ,     0     ,   0])\n",
    "        #print(\"left orient\",xt,yt,zt,sep='\\n', end='\\n\\n')\n",
    "\n",
    "fk = ForwardKinematics()\n",
    "\n",
    "plt.figure()\n",
    "plt.ion()"
   ]
  },
  {
   "cell_type": "code",
   "execution_count": 11,
   "metadata": {},
   "outputs": [],
   "source": [
    "class InverseKinematics(ForwardKinematics):\n",
    "    def __init__(self, t=(0,0,0,0)):\n",
    "        self.t = t\n",
    "            \n",
    "    def de_dt(self,d_t):\n",
    "        t = self.t\n",
    "        #print(d_t)\n",
    "        end_eff_right_t = ForwardKinematics.get_right_end_eff(t)\n",
    "        #print(end_eff_right_t)\n",
    "        end_eff_right_dt = ForwardKinematics.get_right_end_eff(d_t)\n",
    "        #print(end_eff_right_dt)\n",
    "        # Right arm del_e\n",
    "        del_e_x,del_e_y,del_e_z = [map(lambda x1,x2: x1-x2,i,j) for i,j in zip(end_eff_right_dt,end_eff_right_t)]\n",
    "        # Jacobian elements for right arm\n",
    "        del_e_dt = [list(map(lambda x: x/dt, list(del_e_x))),list(map(lambda x: x/dt, list(del_e_y))),list(map(lambda x: x/dt, list(del_e_z)))]\n",
    "        return del_e_dt\n",
    "            \n",
    "    def jacobian(self,t):\n",
    "        pass\n",
    "    \n",
    "    \n",
    "    def step(self,dt):\n",
    "        pass\n",
    "    "
   ]
  },
  {
   "cell_type": "code",
   "execution_count": 6,
   "metadata": {},
   "outputs": [
    {
     "ename": "NameError",
     "evalue": "name 't0' is not defined",
     "output_type": "error",
     "traceback": [
      "\u001b[1;31m---------------------------------------------------------------------------\u001b[0m",
      "\u001b[1;31mNameError\u001b[0m                                 Traceback (most recent call last)",
      "\u001b[1;32m<ipython-input-6-13a7d2cbceb5>\u001b[0m in \u001b[0;36m<module>\u001b[1;34m\u001b[0m\n\u001b[0;32m      2\u001b[0m \u001b[0mt\u001b[0m \u001b[1;33m=\u001b[0m \u001b[1;33m[\u001b[0m\u001b[1;36m0\u001b[0m\u001b[1;33m,\u001b[0m\u001b[1;36m0\u001b[0m\u001b[1;33m,\u001b[0m\u001b[1;36m0\u001b[0m\u001b[1;33m,\u001b[0m\u001b[1;36m0\u001b[0m\u001b[1;33m]\u001b[0m\u001b[1;33m\u001b[0m\u001b[1;33m\u001b[0m\u001b[0m\n\u001b[0;32m      3\u001b[0m \u001b[1;33m\u001b[0m\u001b[0m\n\u001b[1;32m----> 4\u001b[1;33m \u001b[0mprint\u001b[0m\u001b[1;33m(\u001b[0m\u001b[0mik\u001b[0m\u001b[1;33m.\u001b[0m\u001b[0mde_dt\u001b[0m\u001b[1;33m(\u001b[0m\u001b[0mt0\u001b[0m\u001b[1;33m)\u001b[0m\u001b[1;33m)\u001b[0m\u001b[1;33m\u001b[0m\u001b[1;33m\u001b[0m\u001b[0m\n\u001b[0m\u001b[0;32m      5\u001b[0m \u001b[0mprint\u001b[0m\u001b[1;33m(\u001b[0m\u001b[0mik\u001b[0m\u001b[1;33m.\u001b[0m\u001b[0mde_dt\u001b[0m\u001b[1;33m(\u001b[0m\u001b[0mt1\u001b[0m\u001b[1;33m)\u001b[0m\u001b[1;33m)\u001b[0m\u001b[1;33m\u001b[0m\u001b[1;33m\u001b[0m\u001b[0m\n\u001b[0;32m      6\u001b[0m \u001b[0mprint\u001b[0m\u001b[1;33m(\u001b[0m\u001b[0mik\u001b[0m\u001b[1;33m.\u001b[0m\u001b[0mde_dt\u001b[0m\u001b[1;33m(\u001b[0m\u001b[0mt2\u001b[0m\u001b[1;33m)\u001b[0m\u001b[1;33m)\u001b[0m\u001b[1;33m\u001b[0m\u001b[1;33m\u001b[0m\u001b[0m\n",
      "\u001b[1;31mNameError\u001b[0m: name 't0' is not defined"
     ]
    }
   ],
   "source": [
    "ik = InverseKinematics()\n",
    "t = [0,0,0,0]\n",
    "\n",
    "print(ik.de_dt(t0))\n",
    "print(ik.de_dt(t1))\n",
    "print(ik.de_dt(t2))\n",
    "print(ik.de_dt(t3))\n",
    "\n"
   ]
  },
  {
   "cell_type": "code",
   "execution_count": null,
   "metadata": {},
   "outputs": [],
   "source": []
  },
  {
   "cell_type": "code",
   "execution_count": null,
   "metadata": {},
   "outputs": [],
   "source": [
    "\n",
    "while not (err_r < threshold): #if True:\n",
    "\n",
    "    tr0 = list(map(lambda x1,x2: x1+x2,t_r,dt0))\n",
    "    tr1 = list(map(lambda x1,x2: x1+x2,t_r,dt1))\n",
    "    tr2 = list(map(lambda x1,x2: x1+x2,t_r,dt2))\n",
    "    tr3 = list(map(lambda x1,x2: x1+x2,t_r,dt3))\n",
    "\n",
    "    # Right arm parameters\n",
    "    # Right arm e'(right e = er)\n",
    "    end_eff_right_t = fk.get_right_end_eff(t_r)\n",
    "    #print(end_eff_right_t)\n",
    "    end_eff_right_t0 = fk.get_right_end_eff(tr0)\n",
    "    end_eff_right_t1 = fk.get_right_end_eff(tr1)\n",
    "    end_eff_right_t2 = fk.get_right_end_eff(tr2)\n",
    "    end_eff_right_t3 = fk.get_right_end_eff(tr3)\n",
    "\n",
    "    # Right arm del_e\n",
    "    del_r_t0_x,del_r_t0_y,del_r_t0_z = [map(lambda x1,x2: x1-x2,i,j) for i,j in zip(end_eff_right_t0,end_eff_right_t)]\n",
    "    del_r_t1_x,del_r_t1_y,del_r_t1_z = [map(lambda x1,x2: x1-x2,i,j) for i,j in zip(end_eff_right_t1,end_eff_right_t)]\n",
    "    del_r_t2_x,del_r_t2_y,del_r_t2_z = [map(lambda x1,x2: x1-x2,i,j) for i,j in zip(end_eff_right_t2,end_eff_right_t)]\n",
    "    del_r_t3_x,del_r_t3_y,del_r_t3_z = [map(lambda x1,x2: x1-x2,i,j) for i,j in zip(end_eff_right_t3,end_eff_right_t)]\n",
    "    \n",
    "    # Jacobian elements for right arm\n",
    "    del_er_dt0 = [list(map(lambda x: x/dt, list(del_r_t0_x))),list(map(lambda x: x/dt, list(del_r_t0_y))),list(map(lambda x: x/dt, list(del_r_t0_z)))]\n",
    "    del_er_dt1 = [list(map(lambda x: x/dt, list(del_r_t1_x))),list(map(lambda x: x/dt, list(del_r_t1_y))),list(map(lambda x: x/dt, list(del_r_t1_z)))]\n",
    "    del_er_dt2 = [list(map(lambda x: x/dt, list(del_r_t2_x))),list(map(lambda x: x/dt, list(del_r_t2_y))),list(map(lambda x: x/dt, list(del_r_t2_z)))]\n",
    "    del_er_dt3 = [list(map(lambda x: x/dt, list(del_r_t3_x))),list(map(lambda x: x/dt, list(del_r_t3_y))),list(map(lambda x: x/dt, list(del_r_t3_z)))]\n",
    "\n",
    "    # Right arm Jacobian\n",
    "    j_r = [[del_er_dt0[1][4] , del_er_dt1[1][4] , del_er_dt2[1][4] , del_er_dt3[1][4]],\n",
    "           [del_er_dt0[2][4] , del_er_dt1[2][4] , del_er_dt2[2][4] , del_er_dt3[2][4]]]\n",
    "    \n",
    "    # Right arm inverse Jacobian\n",
    "    J_r_inv = pinv(j_r)\n",
    "\n",
    "    er = [end_eff_right_t[1][4],end_eff_right_t[2][4]]\n",
    "    diff_r = list(np.array(e_des_r) - np.array(er))\n",
    "    de_lin_r = list(np.sign(diff_r)*e_lin)\n",
    "    dt_new_r = np.dot(J_r_inv,de_lin_r)\n",
    "    \n",
    "    t_r = list(map(lambda x1,x2: x1+x2,t_r,dt_new_r))\n",
    "    \n",
    "    pos_cur_right = fk.get_right_end_eff(t_r)\n",
    "    cur_end_eff_pos_r = [pos_cur_right[1][4],pos_cur_right[2][4]]\n",
    "    err_r = np.sqrt(np.sum(((np.array(cur_end_eff_pos_r)-np.array(e_des_r))**2),axis=0))\n",
    "    (_,yr,zr) = pos_cur_right\n",
    "\n",
    "    # Left arm parameters\n",
    "    # Left arm e'(right e = er)\n",
    "    tl0 = list(map(lambda x1,x2: x1+x2,t_l,dt0))\n",
    "    tl1 = list(map(lambda x1,x2: x1+x2,t_l,dt1))\n",
    "    tl2 = list(map(lambda x1,x2: x1+x2,t_l,dt2))\n",
    "    tl3 = list(map(lambda x1,x2: x1+x2,t_l,dt3))\n",
    "    \n",
    "    end_eff_left_t = fk.get_right_end_eff(t_l)\n",
    "    #print(end_eff_right_t)\n",
    "    end_eff_left_t0 = fk.get_left_end_eff(tl0)\n",
    "    end_eff_left_t1 = fk.get_left_end_eff(tl1)\n",
    "    end_eff_left_t2 = fk.get_left_end_eff(tl2)\n",
    "    end_eff_left_t3 = fk.get_left_end_eff(tl3)\n",
    "\n",
    "    # Right arm del_e\n",
    "    del_l_t0_x,del_l_t0_y,del_l_t0_z = [map(lambda x1,x2: x1-x2,i,j) for i,j in zip(end_eff_left_t0,end_eff_left_t)]\n",
    "    del_l_t1_x,del_l_t1_y,del_l_t1_z = [map(lambda x1,x2: x1-x2,i,j) for i,j in zip(end_eff_left_t1,end_eff_left_t)]\n",
    "    del_l_t2_x,del_l_t2_y,del_l_t2_z = [map(lambda x1,x2: x1-x2,i,j) for i,j in zip(end_eff_left_t2,end_eff_left_t)]\n",
    "    del_l_t3_x,del_l_t3_y,del_l_t3_z = [map(lambda x1,x2: x1-x2,i,j) for i,j in zip(end_eff_left_t3,end_eff_left_t)]\n",
    "    \n",
    "    # Jacobian elements for right arm\n",
    "    del_el_dt0 = [list(map(lambda x: x/dt, list(del_l_t0_x))),list(map(lambda x: x/dt, list(del_l_t0_y))),list(map(lambda x: x/dt, list(del_l_t0_z)))]\n",
    "    del_el_dt1 = [list(map(lambda x: x/dt, list(del_l_t1_x))),list(map(lambda x: x/dt, list(del_l_t1_y))),list(map(lambda x: x/dt, list(del_l_t1_z)))]\n",
    "    del_el_dt2 = [list(map(lambda x: x/dt, list(del_l_t2_x))),list(map(lambda x: x/dt, list(del_l_t2_y))),list(map(lambda x: x/dt, list(del_l_t2_z)))]\n",
    "    del_el_dt3 = [list(map(lambda x: x/dt, list(del_l_t3_x))),list(map(lambda x: x/dt, list(del_l_t3_y))),list(map(lambda x: x/dt, list(del_l_t3_z)))]\n",
    "\n",
    "    # Right arm Jacobian\n",
    "    j_l = [[del_el_dt0[1][4] , del_el_dt1[1][4] , del_el_dt2[1][4] , del_el_dt3[1][4]],\n",
    "           [del_el_dt0[2][4] , del_el_dt1[2][4] , del_el_dt2[2][4] , del_el_dt3[2][4]]]\n",
    "    \n",
    "    # Right arm inverse Jacobian\n",
    "    J_l_inv = pinv(j_l)\n",
    "\n",
    "    el = [end_eff_left_t[1][4],end_eff_left_t[2][4]]\n",
    "    diff_l = list(np.array(e_des_l) - np.array(el))\n",
    "    de_lin_l = list(np.sign(diff_l)*e_lin)\n",
    "    dt_new_l = np.dot(J_l_inv,de_lin_l)\n",
    "    \n",
    "    t_l = list(map(lambda x1,x2: x1+x2,t_l,dt_new_l))\n",
    "    \n",
    "    pos_cur_left = fk.get_left_end_eff(t_l)\n",
    "    cur_end_eff_pos_l = [pos_cur_left[1][4],pos_cur_left[2][4]]\n",
    "    err_l = np.sqrt(np.sum(((np.array(cur_end_eff_pos_l)-np.array(e_des_l))**2),axis=0))\n",
    "    (_,yl,zl) = pos_cur_left\n",
    "\n",
    "    plt.clf()\n",
    "    #rline, = ax.plot([y], [z], 'o-', lw=2)\n",
    "    plt.plot(yr,zr, 'o-', lw=2)\n",
    "    plt.plot(yl,zl, 'o-', lw=2)\n",
    "    plt.plot(e_des_r[0],e_des_r[1], 'o')\n",
    "    plt.plot(e_des_l[0],e_des_l[1], 'o')\n",
    "    plt.grid(True)\n",
    "    plt.axis((-0.6, 0.6, -0.6, 0.6))\n",
    "    plt.pause(0.01)\n",
    "    #print(err_r,err_l)\n",
    "    print(t_r,t_l)\n",
    "    print(cur_end_eff_pos_r)\n",
    "    print(cur_end_eff_pos_l)\n",
    "    print(\"--------------\")\n",
    "\n",
    "plt.pause(10)\n"
   ]
  },
  {
   "cell_type": "code",
   "execution_count": 86,
   "metadata": {},
   "outputs": [],
   "source": [
    "a=[1,2,3,4]\n",
    "b = list(-np.array(a))\n",
    "c = [-2,-4,1,2]"
   ]
  },
  {
   "cell_type": "code",
   "execution_count": 89,
   "metadata": {},
   "outputs": [
    {
     "data": {
      "text/plain": [
       "-30"
      ]
     },
     "execution_count": 89,
     "metadata": {},
     "output_type": "execute_result"
    }
   ],
   "source": [
    "np.dot(a,b)"
   ]
  },
  {
   "cell_type": "code",
   "execution_count": null,
   "metadata": {},
   "outputs": [],
   "source": []
  },
  {
   "cell_type": "code",
   "execution_count": 83,
   "metadata": {},
   "outputs": [],
   "source": [
    "a = np.array(a)\n",
    "b = np.array(b)\n",
    "c = np.array(c)"
   ]
  },
  {
   "cell_type": "code",
   "execution_count": 84,
   "metadata": {},
   "outputs": [
    {
     "data": {
      "text/plain": [
       "array([-1, -2,  1,  2])"
      ]
     },
     "execution_count": 84,
     "metadata": {},
     "output_type": "execute_result"
    }
   ],
   "source": [
    "np.maximum(np.minimum(c,a),b)"
   ]
  },
  {
   "cell_type": "code",
   "execution_count": 79,
   "metadata": {},
   "outputs": [
    {
     "data": {
      "text/plain": [
       "[-2, -4, 10, 20]"
      ]
     },
     "execution_count": 79,
     "metadata": {},
     "output_type": "execute_result"
    }
   ],
   "source": [
    "min(a,c)"
   ]
  },
  {
   "cell_type": "code",
   "execution_count": 85,
   "metadata": {},
   "outputs": [
    {
     "data": {
      "text/plain": [
       "array([ -1,  -4,  -9, -16])"
      ]
     },
     "execution_count": 85,
     "metadata": {},
     "output_type": "execute_result"
    }
   ],
   "source": []
  },
  {
   "cell_type": "code",
   "execution_count": null,
   "metadata": {},
   "outputs": [],
   "source": []
  },
  {
   "cell_type": "code",
   "execution_count": null,
   "metadata": {},
   "outputs": [],
   "source": [
    "ma"
   ]
  },
  {
   "cell_type": "code",
   "execution_count": 33,
   "metadata": {},
   "outputs": [
    {
     "ename": "ValueError",
     "evalue": "The truth value of an array with more than one element is ambiguous. Use a.any() or a.all()",
     "output_type": "error",
     "traceback": [
      "\u001b[1;31m---------------------------------------------------------------------------\u001b[0m",
      "\u001b[1;31mValueError\u001b[0m                                Traceback (most recent call last)",
      "\u001b[1;32m<ipython-input-33-0558980a9a0b>\u001b[0m in \u001b[0;36m<module>\u001b[1;34m\u001b[0m\n\u001b[1;32m----> 1\u001b[1;33m \u001b[0mmin\u001b[0m\u001b[1;33m(\u001b[0m\u001b[0mmax\u001b[0m\u001b[1;33m(\u001b[0m\u001b[0mnp\u001b[0m\u001b[1;33m.\u001b[0m\u001b[0marray\u001b[0m\u001b[1;33m(\u001b[0m\u001b[0ma\u001b[0m\u001b[1;33m)\u001b[0m\u001b[1;33m*\u001b[0m\u001b[0mb\u001b[0m\u001b[1;33m,\u001b[0m\u001b[1;33m-\u001b[0m\u001b[0mb\u001b[0m\u001b[1;33m)\u001b[0m\u001b[1;33m,\u001b[0m\u001b[0mb\u001b[0m\u001b[1;33m)\u001b[0m\u001b[1;33m\u001b[0m\u001b[1;33m\u001b[0m\u001b[0m\n\u001b[0m",
      "\u001b[1;31mValueError\u001b[0m: The truth value of an array with more than one element is ambiguous. Use a.any() or a.all()"
     ]
    }
   ],
   "source": [
    "min(max(np.array(a)*b,-b),b)"
   ]
  },
  {
   "cell_type": "code",
   "execution_count": null,
   "metadata": {},
   "outputs": [],
   "source": [
    "while not (err_r < threshold):\n",
    "    "
   ]
  },
  {
   "cell_type": "code",
   "execution_count": 51,
   "metadata": {},
   "outputs": [
    {
     "ename": "ValueError",
     "evalue": "The truth value of an array with more than one element is ambiguous. Use a.any() or a.all()",
     "output_type": "error",
     "traceback": [
      "\u001b[1;31m---------------------------------------------------------------------------\u001b[0m",
      "\u001b[1;31mValueError\u001b[0m                                Traceback (most recent call last)",
      "\u001b[1;32m<ipython-input-51-6918bec256db>\u001b[0m in \u001b[0;36m<module>\u001b[1;34m\u001b[0m\n\u001b[1;32m----> 1\u001b[1;33m \u001b[0mmax\u001b[0m\u001b[1;33m(\u001b[0m\u001b[0mnp\u001b[0m\u001b[1;33m.\u001b[0m\u001b[0marray\u001b[0m\u001b[1;33m(\u001b[0m\u001b[0ma\u001b[0m\u001b[1;33m)\u001b[0m\u001b[1;33m*\u001b[0m\u001b[0mb\u001b[0m\u001b[1;33m,\u001b[0m\u001b[0mlist\u001b[0m\u001b[1;33m(\u001b[0m\u001b[0mb\u001b[0m\u001b[1;33m)\u001b[0m\u001b[1;33m)\u001b[0m\u001b[1;33m\u001b[0m\u001b[1;33m\u001b[0m\u001b[0m\n\u001b[0m",
      "\u001b[1;31mValueError\u001b[0m: The truth value of an array with more than one element is ambiguous. Use a.any() or a.all()"
     ]
    }
   ],
   "source": [
    "max(np.array(a)*b,list(b))"
   ]
  },
  {
   "cell_type": "code",
   "execution_count": 46,
   "metadata": {},
   "outputs": [
    {
     "data": {
      "text/plain": [
       "array([-2, -3])"
      ]
     },
     "execution_count": 46,
     "metadata": {},
     "output_type": "execute_result"
    }
   ],
   "source": [
    "-np.array(a)\n"
   ]
  },
  {
   "cell_type": "code",
   "execution_count": null,
   "metadata": {},
   "outputs": [],
   "source": []
  }
 ],
 "metadata": {
  "kernelspec": {
   "display_name": "Python 3",
   "language": "python",
   "name": "python3"
  },
  "language_info": {
   "codemirror_mode": {
    "name": "ipython",
    "version": 3
   },
   "file_extension": ".py",
   "mimetype": "text/x-python",
   "name": "python",
   "nbconvert_exporter": "python",
   "pygments_lexer": "ipython3",
   "version": "3.7.9"
  }
 },
 "nbformat": 4,
 "nbformat_minor": 2
}
