{
 "cells": [
  {
   "cell_type": "code",
   "execution_count": 3,
   "metadata": {},
   "outputs": [],
   "source": [
    "import numpy as np\n",
    "import matplotlib.pyplot as plt"
   ]
  },
  {
   "cell_type": "code",
   "execution_count": 7,
   "metadata": {},
   "outputs": [],
   "source": [
    "theta = (0,0,0,0)\n",
    "disp = (3,3,3,3)"
   ]
  },
  {
   "cell_type": "code",
   "execution_count": 9,
   "metadata": {},
   "outputs": [],
   "source": [
    "class InvKinematics:\n",
    "    \n",
    "    def __init__(self,theta,disp):\n",
    "        self.theta = theta\n",
    "        self.disp = disp\n",
    "        \n",
    "    '''\n",
    "    def param_tab(self,t,a):\n",
    "        \n",
    "        t = t/180*np.pi\n",
    "        tab = [t,0,a,0]\n",
    "        T = [[np.cos(tab[0][0]) , -np.cos(tab[0][1])*np.sin(tab[0][0]), np.sin(tab[0][1])*np.sin(tab[0][0])  , tab[0][2]*np.cos(tab[0][0])],\n",
    "             [np.sin(tab[0][0]) , np.cos(tab[0][1])*np.cos(tab[0][0]) , -np.sin(tab[0][1])*np.cos(tab[0][0]) , tab[0][2]*np.sin(tab[0][0])],\n",
    "             [           0      ,            np.sin(tab[0][1])        ,       np.cos(tab[0][1])              ,     tab[0][3]              ],\n",
    "             [0  ,  0  ,  0  ,  1 ]]\n",
    "        \n",
    "        return T\n",
    "    '''    \n",
    "        \n",
    "    def end_eff_loc(self,theta,disp):\n",
    "        (tf,t0,t1,te) = self.theta\n",
    "        (a0,a1,a2,ae) = self.disp\n",
    "        \n",
    "        tf = tf/180*np.pi\n",
    "        t0 = t0/180*np.pi\n",
    "        t1 = t1/180*np.pi\n",
    "        te = te/180*np.pi\n",
    "        \n",
    "        param_tab = [[tf ,      0         ,  -a0   ,  0  ],\n",
    "                     [t0 ,      0         ,  -a1   ,  0  ],\n",
    "                     [t1 ,      0         ,  -a2   ,  0  ],\n",
    "                     [te ,      0         ,  -ae   ,  0  ]]\n",
    "    \n",
    "        # Transformation matrix\n",
    "\n",
    "        i=0\n",
    "        T0_1 = [[np.cos(param_tab[i][0]) , -np.cos(param_tab[i][1])*np.sin(param_tab[i][0]), np.sin(param_tab[i][1])*np.sin(param_tab[i][0])  , param_tab[i][2]*np.cos(param_tab[i][0])],\n",
    "                [np.sin(param_tab[i][0]) , np.cos(param_tab[i][1])*np.cos(param_tab[i][0]) , -np.sin(param_tab[i][1])*np.cos(param_tab[i][0]) , param_tab[i][2]*np.sin(param_tab[i][0])],\n",
    "                [           0            ,            np.sin(param_tab[i][1])              ,       np.cos(param_tab[i][1])                    ,     param_tab[i][3]                    ],\n",
    "                [0  ,  0  ,  0  ,  1 ]]\n",
    "\n",
    "        i=1\n",
    "        T1_2 = [[np.cos(param_tab[i][0]) , -np.cos(param_tab[i][1])*np.sin(param_tab[i][0]), np.sin(param_tab[i][1])*np.sin(param_tab[i][0])  , param_tab[i][2]*np.cos(param_tab[i][0])],\n",
    "                [np.sin(param_tab[i][0]) , np.cos(param_tab[i][1])*np.cos(param_tab[i][0]) , -np.sin(param_tab[i][1])*np.cos(param_tab[i][0]) , param_tab[i][2]*np.sin(param_tab[i][0])],\n",
    "                [           0            ,            np.sin(param_tab[i][1])              ,       np.cos(param_tab[i][1])                    ,     param_tab[i][3]                    ],\n",
    "                [0  ,  0  ,  0  ,  1 ]]\n",
    "\n",
    "        i=2\n",
    "        T2_3 = [[np.cos(param_tab[i][0]) , -np.cos(param_tab[i][1])*np.sin(param_tab[i][0]), np.sin(param_tab[i][1])*np.sin(param_tab[i][0])  , param_tab[i][2]*np.cos(param_tab[i][0])],\n",
    "                [np.sin(param_tab[i][0]) , np.cos(param_tab[i][1])*np.cos(param_tab[i][0]) , -np.sin(param_tab[i][1])*np.cos(param_tab[i][0]) , param_tab[i][2]*np.sin(param_tab[i][0])],\n",
    "                [           0            ,            np.sin(param_tab[i][1])              ,       np.cos(param_tab[i][1])                    ,     param_tab[i][3]                    ],\n",
    "                [0  ,  0  ,  0  ,  1 ]]\n",
    "    \n",
    "        i=3\n",
    "        T3_4 = [[np.cos(param_tab[i][0]) , -np.cos(param_tab[i][1])*np.sin(param_tab[i][0]), np.sin(param_tab[i][1])*np.sin(param_tab[i][0])  , param_tab[i][2]*np.cos(param_tab[i][0])],\n",
    "                [np.sin(param_tab[i][0]) , np.cos(param_tab[i][1])*np.cos(param_tab[i][0]) , -np.sin(param_tab[i][1])*np.cos(param_tab[i][0]) , param_tab[i][2]*np.sin(param_tab[i][0])],\n",
    "                [           0            ,            np.sin(param_tab[i][1])              ,       np.cos(param_tab[i][1])                    ,     param_tab[i][3]                    ],\n",
    "                [0  ,  0  ,  0  ,  1 ]]\n",
    "        \n",
    "        T0_2 = np.dot(T0_1,T1_2)\n",
    "        T0_3 = np.dot(T0_2,T2_3)\n",
    "        T0_4 = np.dot(T0_3,T3_4)\n",
    "        \n",
    "        return T0_4\n",
    "    \n",
    "    \n"
   ]
  },
  {
   "cell_type": "code",
   "execution_count": null,
   "metadata": {},
   "outputs": [],
   "source": []
  }
 ],
 "metadata": {
  "kernelspec": {
   "display_name": "Python 3",
   "language": "python",
   "name": "python3"
  },
  "language_info": {
   "codemirror_mode": {
    "name": "ipython",
    "version": 3
   },
   "file_extension": ".py",
   "mimetype": "text/x-python",
   "name": "python",
   "nbconvert_exporter": "python",
   "pygments_lexer": "ipython3",
   "version": "3.7.1"
  }
 },
 "nbformat": 4,
 "nbformat_minor": 2
}
